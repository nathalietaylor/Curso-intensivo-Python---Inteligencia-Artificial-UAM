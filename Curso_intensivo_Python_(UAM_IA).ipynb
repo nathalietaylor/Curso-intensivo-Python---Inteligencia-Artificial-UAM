{
  "nbformat": 4,
  "nbformat_minor": 0,
  "metadata": {
    "colab": {
      "provenance": [],
      "toc_visible": true,
      "authorship_tag": "ABX9TyNe9Xp50770Wn5yEDQVq90B",
      "include_colab_link": true
    },
    "kernelspec": {
      "name": "python3",
      "display_name": "Python 3"
    },
    "language_info": {
      "name": "python"
    }
  },
  "cells": [
    {
      "cell_type": "markdown",
      "metadata": {
        "id": "view-in-github",
        "colab_type": "text"
      },
      "source": [
        "<a href=\"https://colab.research.google.com/github/nathalietaylor/Curso-intensivo-Python---Inteligencia-Artificial-UAM/blob/main/Curso_intensivo_Python_(UAM_IA).ipynb\" target=\"_parent\"><img src=\"https://colab.research.google.com/assets/colab-badge.svg\" alt=\"Open In Colab\"/></a>"
      ]
    },
    {
      "cell_type": "markdown",
      "source": [
        "#Curso intensivo de Python\n",
        "\n",
        "* Tipos de dados\n",
        "  * numeros\n",
        "  * strings\n",
        "  * impressão\n",
        "  * listas\n",
        "  * dicionarios\n",
        "  * booleanos\n",
        "  * tuplas\n",
        "  * sets\n",
        "\n",
        "* Operadores de comparação\n",
        "* Declaração if, else, elif\n",
        "* Laços for\n",
        "* Laços while\n",
        "* range()\n",
        "* Listas\n",
        "* Funções\n",
        "* Expressoes lambda\n",
        "* map e filter\n",
        "* Métodos\n"
      ],
      "metadata": {
        "id": "mD37Qs7Xq83-"
      }
    },
    {
      "cell_type": "markdown",
      "source": [
        "## Tipos de dados\n"
      ],
      "metadata": {
        "id": "dnH8gQrGs3gs"
      }
    },
    {
      "cell_type": "markdown",
      "source": [
        "### Números"
      ],
      "metadata": {
        "id": "3O-Y0V_utNjn"
      }
    },
    {
      "cell_type": "code",
      "source": [
        "1 + 1"
      ],
      "metadata": {
        "colab": {
          "base_uri": "https://localhost:8080/"
        },
        "id": "OLAJLZYjtOSa",
        "outputId": "fdb0b0a5-6a23-46b2-81f9-0226a3861e6a"
      },
      "execution_count": 47,
      "outputs": [
        {
          "output_type": "execute_result",
          "data": {
            "text/plain": [
              "2"
            ]
          },
          "metadata": {},
          "execution_count": 47
        }
      ]
    },
    {
      "cell_type": "code",
      "source": [
        "1 * 3"
      ],
      "metadata": {
        "colab": {
          "base_uri": "https://localhost:8080/"
        },
        "id": "fDgwLSseuPMr",
        "outputId": "b79d180e-ecc1-4995-c334-be91c51bbfc0"
      },
      "execution_count": 48,
      "outputs": [
        {
          "output_type": "execute_result",
          "data": {
            "text/plain": [
              "3"
            ]
          },
          "metadata": {},
          "execution_count": 48
        }
      ]
    },
    {
      "cell_type": "code",
      "source": [
        "3 ** 2"
      ],
      "metadata": {
        "colab": {
          "base_uri": "https://localhost:8080/"
        },
        "id": "rEuycXUAuVR6",
        "outputId": "82fbe59f-854d-4c48-ea60-26ad5298a74b"
      },
      "execution_count": 49,
      "outputs": [
        {
          "output_type": "execute_result",
          "data": {
            "text/plain": [
              "9"
            ]
          },
          "metadata": {},
          "execution_count": 49
        }
      ]
    },
    {
      "cell_type": "code",
      "source": [
        "4 % 2"
      ],
      "metadata": {
        "colab": {
          "base_uri": "https://localhost:8080/"
        },
        "id": "QfW6tghOuYMU",
        "outputId": "de449984-df47-42c2-ed34-ccdd15bd0fa9"
      },
      "execution_count": 50,
      "outputs": [
        {
          "output_type": "execute_result",
          "data": {
            "text/plain": [
              "0"
            ]
          },
          "metadata": {},
          "execution_count": 50
        }
      ]
    },
    {
      "cell_type": "markdown",
      "source": [
        "% para o resto da divisão"
      ],
      "metadata": {
        "id": "7VO40HvCucxu"
      }
    },
    {
      "cell_type": "code",
      "source": [
        "1 / 2"
      ],
      "metadata": {
        "colab": {
          "base_uri": "https://localhost:8080/"
        },
        "id": "_sjfDGHYufc0",
        "outputId": "54343b91-491a-449d-de3f-9f103edb09c9"
      },
      "execution_count": 51,
      "outputs": [
        {
          "output_type": "execute_result",
          "data": {
            "text/plain": [
              "0.5"
            ]
          },
          "metadata": {},
          "execution_count": 51
        }
      ]
    },
    {
      "cell_type": "code",
      "source": [
        "5 // 2"
      ],
      "metadata": {
        "colab": {
          "base_uri": "https://localhost:8080/"
        },
        "id": "H5E661COumCa",
        "outputId": "2a2a70bc-46cf-4792-8a18-a2d59ffdb7e3"
      },
      "execution_count": 52,
      "outputs": [
        {
          "output_type": "execute_result",
          "data": {
            "text/plain": [
              "2"
            ]
          },
          "metadata": {},
          "execution_count": 52
        }
      ]
    },
    {
      "cell_type": "markdown",
      "source": [
        "#### Atribuição de variáveis\n",
        "\n",
        "Não podem começar com nº ou caracteres especiais"
      ],
      "metadata": {
        "id": "-y2g2w5OuwnL"
      }
    },
    {
      "cell_type": "code",
      "source": [
        "name_of_var = 2"
      ],
      "metadata": {
        "id": "icImkx8Eu7Lq"
      },
      "execution_count": 53,
      "outputs": []
    },
    {
      "cell_type": "code",
      "source": [
        "x = 2\n",
        "y = 3"
      ],
      "metadata": {
        "id": "_Wad5rF2vRL7"
      },
      "execution_count": 54,
      "outputs": []
    },
    {
      "cell_type": "code",
      "source": [
        "z = x + y\n",
        "z"
      ],
      "metadata": {
        "colab": {
          "base_uri": "https://localhost:8080/"
        },
        "id": "ilPdBkvxvYtL",
        "outputId": "db1b3c05-27dd-4dce-9b06-09c3a9074830"
      },
      "execution_count": 55,
      "outputs": [
        {
          "output_type": "execute_result",
          "data": {
            "text/plain": [
              "5"
            ]
          },
          "metadata": {},
          "execution_count": 55
        }
      ]
    },
    {
      "cell_type": "markdown",
      "source": [
        "### Strings"
      ],
      "metadata": {
        "id": "vRQwSH4JwBq0"
      }
    },
    {
      "cell_type": "markdown",
      "source": [
        "diferente do java, que 'char' e \"string\", Python não diferencia"
      ],
      "metadata": {
        "id": "8bI4wm7nwNSQ"
      }
    },
    {
      "cell_type": "markdown",
      "source": [
        "### Impressão"
      ],
      "metadata": {
        "id": "WnlrdZeawpn8"
      }
    },
    {
      "cell_type": "code",
      "source": [
        "x = 'hello'"
      ],
      "metadata": {
        "id": "PBplu_WSwtCH"
      },
      "execution_count": 56,
      "outputs": []
    },
    {
      "cell_type": "code",
      "source": [
        "x"
      ],
      "metadata": {
        "colab": {
          "base_uri": "https://localhost:8080/",
          "height": 35
        },
        "id": "qvCvfi5VwwOI",
        "outputId": "6efc5f62-55f7-4f1c-a26e-149274c46d4f"
      },
      "execution_count": 57,
      "outputs": [
        {
          "output_type": "execute_result",
          "data": {
            "text/plain": [
              "'hello'"
            ],
            "application/vnd.google.colaboratory.intrinsic+json": {
              "type": "string"
            }
          },
          "metadata": {},
          "execution_count": 57
        }
      ]
    },
    {
      "cell_type": "code",
      "source": [
        "print(x)"
      ],
      "metadata": {
        "colab": {
          "base_uri": "https://localhost:8080/"
        },
        "id": "uVQKL5sbwwrH",
        "outputId": "1285ebe3-923e-4435-a49a-40f8bac59e52"
      },
      "execution_count": 58,
      "outputs": [
        {
          "output_type": "stream",
          "name": "stdout",
          "text": [
            "hello\n"
          ]
        }
      ]
    },
    {
      "cell_type": "code",
      "source": [
        "idade = 30\n",
        "nome = \"Nathalie\""
      ],
      "metadata": {
        "id": "8YDFfAu3wy6n"
      },
      "execution_count": 59,
      "outputs": []
    },
    {
      "cell_type": "code",
      "source": [
        "print(f\"Olá, sou a {nome}, tenho {idade} anos\")"
      ],
      "metadata": {
        "colab": {
          "base_uri": "https://localhost:8080/"
        },
        "id": "M_iAL-IgxNkX",
        "outputId": "d8237c44-677e-4b0b-9b32-5fd4a7684004"
      },
      "execution_count": 60,
      "outputs": [
        {
          "output_type": "stream",
          "name": "stdout",
          "text": [
            "Olá, sou a Nathalie, tenho 30 anos\n"
          ]
        }
      ]
    },
    {
      "cell_type": "markdown",
      "source": [
        "### Listas"
      ],
      "metadata": {
        "id": "gzOFaOZOyHlU"
      }
    },
    {
      "cell_type": "code",
      "source": [
        "[1, 2,3]"
      ],
      "metadata": {
        "colab": {
          "base_uri": "https://localhost:8080/"
        },
        "id": "0s7W5tYex8PV",
        "outputId": "1367ad80-e85e-463c-8442-af5538753302"
      },
      "execution_count": 61,
      "outputs": [
        {
          "output_type": "execute_result",
          "data": {
            "text/plain": [
              "[1, 2, 3]"
            ]
          },
          "metadata": {},
          "execution_count": 61
        }
      ]
    },
    {
      "cell_type": "code",
      "source": [
        "['hi',1, [1,2]]"
      ],
      "metadata": {
        "colab": {
          "base_uri": "https://localhost:8080/"
        },
        "id": "eQC-vybzyM9L",
        "outputId": "e74488e1-d77c-45b6-dc3d-ec80af4574a8"
      },
      "execution_count": 62,
      "outputs": [
        {
          "output_type": "execute_result",
          "data": {
            "text/plain": [
              "['hi', 1, [1, 2]]"
            ]
          },
          "metadata": {},
          "execution_count": 62
        }
      ]
    },
    {
      "cell_type": "code",
      "source": [
        "my_list = ['a','b','c']"
      ],
      "metadata": {
        "id": "PhIAgJ_pyTbs"
      },
      "execution_count": 63,
      "outputs": []
    },
    {
      "cell_type": "code",
      "source": [
        "my_list"
      ],
      "metadata": {
        "colab": {
          "base_uri": "https://localhost:8080/"
        },
        "id": "qaDPWHYqyfB8",
        "outputId": "ba5fe03c-1c2a-4818-8dd3-eac2af1d709a"
      },
      "execution_count": 64,
      "outputs": [
        {
          "output_type": "execute_result",
          "data": {
            "text/plain": [
              "['a', 'b', 'c']"
            ]
          },
          "metadata": {},
          "execution_count": 64
        }
      ]
    },
    {
      "cell_type": "code",
      "source": [
        "my_list.append('d')\n",
        "my_list"
      ],
      "metadata": {
        "colab": {
          "base_uri": "https://localhost:8080/"
        },
        "id": "prFuLX81yo9U",
        "outputId": "9a7fe95b-a4ba-4915-9ff9-22679a9f9fbb"
      },
      "execution_count": 65,
      "outputs": [
        {
          "output_type": "execute_result",
          "data": {
            "text/plain": [
              "['a', 'b', 'c', 'd']"
            ]
          },
          "metadata": {},
          "execution_count": 65
        }
      ]
    },
    {
      "cell_type": "code",
      "source": [
        "my_list[0]"
      ],
      "metadata": {
        "colab": {
          "base_uri": "https://localhost:8080/",
          "height": 35
        },
        "id": "SLkoDsiGyy9P",
        "outputId": "aa7b9342-242c-495b-d6a4-978d11b7257a"
      },
      "execution_count": 66,
      "outputs": [
        {
          "output_type": "execute_result",
          "data": {
            "text/plain": [
              "'a'"
            ],
            "application/vnd.google.colaboratory.intrinsic+json": {
              "type": "string"
            }
          },
          "metadata": {},
          "execution_count": 66
        }
      ]
    },
    {
      "cell_type": "code",
      "source": [
        "my_list[3]"
      ],
      "metadata": {
        "colab": {
          "base_uri": "https://localhost:8080/",
          "height": 35
        },
        "id": "9BTBheNLy2d_",
        "outputId": "a83197d2-1d54-40c4-dc2c-28fbdcaf7077"
      },
      "execution_count": 67,
      "outputs": [
        {
          "output_type": "execute_result",
          "data": {
            "text/plain": [
              "'d'"
            ],
            "application/vnd.google.colaboratory.intrinsic+json": {
              "type": "string"
            }
          },
          "metadata": {},
          "execution_count": 67
        }
      ]
    },
    {
      "cell_type": "code",
      "source": [
        "my_list[1:]"
      ],
      "metadata": {
        "colab": {
          "base_uri": "https://localhost:8080/"
        },
        "id": "CYDpxrLay4_P",
        "outputId": "d8b558e3-7917-445d-ec20-722fd3e93f51"
      },
      "execution_count": 68,
      "outputs": [
        {
          "output_type": "execute_result",
          "data": {
            "text/plain": [
              "['b', 'c', 'd']"
            ]
          },
          "metadata": {},
          "execution_count": 68
        }
      ]
    },
    {
      "cell_type": "code",
      "source": [
        "my_list[1:3]"
      ],
      "metadata": {
        "colab": {
          "base_uri": "https://localhost:8080/"
        },
        "id": "WIOvOQSSzCiv",
        "outputId": "571f2af1-b5c1-4c32-ee82-b2727bf73d26"
      },
      "execution_count": 69,
      "outputs": [
        {
          "output_type": "execute_result",
          "data": {
            "text/plain": [
              "['b', 'c']"
            ]
          },
          "metadata": {},
          "execution_count": 69
        }
      ]
    },
    {
      "cell_type": "code",
      "source": [
        "my_list[:1]"
      ],
      "metadata": {
        "colab": {
          "base_uri": "https://localhost:8080/"
        },
        "id": "d1gL99VxzLWP",
        "outputId": "faf266a6-cf49-4bc5-b780-f2a3716871ed"
      },
      "execution_count": 70,
      "outputs": [
        {
          "output_type": "execute_result",
          "data": {
            "text/plain": [
              "['a']"
            ]
          },
          "metadata": {},
          "execution_count": 70
        }
      ]
    },
    {
      "cell_type": "code",
      "source": [
        "my_list[0] = \"new\""
      ],
      "metadata": {
        "id": "z-pf5SapzyMf"
      },
      "execution_count": 71,
      "outputs": []
    },
    {
      "cell_type": "code",
      "source": [
        "my_list"
      ],
      "metadata": {
        "colab": {
          "base_uri": "https://localhost:8080/"
        },
        "id": "Fh3Ffo6Oz3lg",
        "outputId": "05e247b6-fae8-42b0-9dac-c2ff31dc46a1"
      },
      "execution_count": 72,
      "outputs": [
        {
          "output_type": "execute_result",
          "data": {
            "text/plain": [
              "['new', 'b', 'c', 'd']"
            ]
          },
          "metadata": {},
          "execution_count": 72
        }
      ]
    },
    {
      "cell_type": "code",
      "source": [
        "nest = [1,2,3,[4,5,['target']]]"
      ],
      "metadata": {
        "id": "aSesQQI6z5_g"
      },
      "execution_count": 73,
      "outputs": []
    },
    {
      "cell_type": "code",
      "source": [
        "nest[3]"
      ],
      "metadata": {
        "colab": {
          "base_uri": "https://localhost:8080/"
        },
        "id": "ufyfjxZp0KrU",
        "outputId": "b2b9c5b6-67f3-4376-b40e-bc552d0ac8ef"
      },
      "execution_count": 74,
      "outputs": [
        {
          "output_type": "execute_result",
          "data": {
            "text/plain": [
              "[4, 5, ['target']]"
            ]
          },
          "metadata": {},
          "execution_count": 74
        }
      ]
    },
    {
      "cell_type": "code",
      "source": [
        "nest[3][2]"
      ],
      "metadata": {
        "colab": {
          "base_uri": "https://localhost:8080/"
        },
        "id": "MX2t_5610YsI",
        "outputId": "8e471411-ed2c-44f0-99ba-b61b9da52a0e"
      },
      "execution_count": 75,
      "outputs": [
        {
          "output_type": "execute_result",
          "data": {
            "text/plain": [
              "['target']"
            ]
          },
          "metadata": {},
          "execution_count": 75
        }
      ]
    },
    {
      "cell_type": "code",
      "source": [
        "nest[3][2][0]"
      ],
      "metadata": {
        "colab": {
          "base_uri": "https://localhost:8080/",
          "height": 35
        },
        "id": "QByE0RxK0cHo",
        "outputId": "1ebdb170-226d-4ed5-a9a3-3b03b877fd33"
      },
      "execution_count": 76,
      "outputs": [
        {
          "output_type": "execute_result",
          "data": {
            "text/plain": [
              "'target'"
            ],
            "application/vnd.google.colaboratory.intrinsic+json": {
              "type": "string"
            }
          },
          "metadata": {},
          "execution_count": 76
        }
      ]
    },
    {
      "cell_type": "code",
      "source": [
        "x = [1,2,3,4]"
      ],
      "metadata": {
        "id": "zEsaGK-bAJy5"
      },
      "execution_count": 77,
      "outputs": []
    },
    {
      "cell_type": "code",
      "source": [
        "out = []\n",
        "for item in x:\n",
        "  out.append(item**2)\n",
        "print(out)"
      ],
      "metadata": {
        "colab": {
          "base_uri": "https://localhost:8080/"
        },
        "id": "mYb37nAoAPhZ",
        "outputId": "5e31982b-1067-414d-9aca-471ae5748ec0"
      },
      "execution_count": 78,
      "outputs": [
        {
          "output_type": "stream",
          "name": "stdout",
          "text": [
            "[1, 4, 9, 16]\n"
          ]
        }
      ]
    },
    {
      "cell_type": "code",
      "source": [
        "out = []\n",
        "for item in x:\n",
        "  out.append(item**2)\n",
        "  print(out)"
      ],
      "metadata": {
        "colab": {
          "base_uri": "https://localhost:8080/"
        },
        "id": "S8q0GxZvAmdt",
        "outputId": "5e8e79db-da96-4089-ea18-c7b8060fed72"
      },
      "execution_count": 79,
      "outputs": [
        {
          "output_type": "stream",
          "name": "stdout",
          "text": [
            "[1]\n",
            "[1, 4]\n",
            "[1, 4, 9]\n",
            "[1, 4, 9, 16]\n"
          ]
        }
      ]
    },
    {
      "cell_type": "code",
      "source": [
        "[item**2 for item in x]"
      ],
      "metadata": {
        "colab": {
          "base_uri": "https://localhost:8080/"
        },
        "id": "BPecBEfkA6eQ",
        "outputId": "78ce9c00-b4b0-4f57-ea1c-c91545c60f33"
      },
      "execution_count": 80,
      "outputs": [
        {
          "output_type": "execute_result",
          "data": {
            "text/plain": [
              "[1, 4, 9, 16]"
            ]
          },
          "metadata": {},
          "execution_count": 80
        }
      ]
    },
    {
      "cell_type": "markdown",
      "source": [
        "### Dicionário"
      ],
      "metadata": {
        "id": "T573ujeA0hQh"
      }
    },
    {
      "cell_type": "code",
      "source": [
        "d = {'key1':'item1', 'key2':'item2'}"
      ],
      "metadata": {
        "id": "5EDaZSTC0flI"
      },
      "execution_count": 81,
      "outputs": []
    },
    {
      "cell_type": "code",
      "source": [
        "d"
      ],
      "metadata": {
        "colab": {
          "base_uri": "https://localhost:8080/"
        },
        "id": "-XjqQ00n063b",
        "outputId": "d1c8f339-a661-44fd-f768-4154a82efe0e"
      },
      "execution_count": 82,
      "outputs": [
        {
          "output_type": "execute_result",
          "data": {
            "text/plain": [
              "{'key1': 'item1', 'key2': 'item2'}"
            ]
          },
          "metadata": {},
          "execution_count": 82
        }
      ]
    },
    {
      "cell_type": "code",
      "source": [
        "d['key1']"
      ],
      "metadata": {
        "colab": {
          "base_uri": "https://localhost:8080/",
          "height": 35
        },
        "id": "F9d3SySL07qb",
        "outputId": "40689447-23b2-45b0-cebe-d946bdae82e6"
      },
      "execution_count": 83,
      "outputs": [
        {
          "output_type": "execute_result",
          "data": {
            "text/plain": [
              "'item1'"
            ],
            "application/vnd.google.colaboratory.intrinsic+json": {
              "type": "string"
            }
          },
          "metadata": {},
          "execution_count": 83
        }
      ]
    },
    {
      "cell_type": "markdown",
      "source": [
        "### Booleanos"
      ],
      "metadata": {
        "id": "aCldufcz1BF8"
      }
    },
    {
      "cell_type": "code",
      "source": [
        "True"
      ],
      "metadata": {
        "colab": {
          "base_uri": "https://localhost:8080/"
        },
        "id": "HJm9WUZ10-mL",
        "outputId": "cef93223-50f5-448e-aa27-b46dd6daa9ac"
      },
      "execution_count": 84,
      "outputs": [
        {
          "output_type": "execute_result",
          "data": {
            "text/plain": [
              "True"
            ]
          },
          "metadata": {},
          "execution_count": 84
        }
      ]
    },
    {
      "cell_type": "code",
      "source": [
        "False"
      ],
      "metadata": {
        "colab": {
          "base_uri": "https://localhost:8080/"
        },
        "id": "CfqKU_9H1F_U",
        "outputId": "47361bb5-5bb1-4310-977f-f8c493391dcd"
      },
      "execution_count": 85,
      "outputs": [
        {
          "output_type": "execute_result",
          "data": {
            "text/plain": [
              "False"
            ]
          },
          "metadata": {},
          "execution_count": 85
        }
      ]
    },
    {
      "cell_type": "markdown",
      "source": [
        "### Tuplas\n",
        "\n",
        "objetos do tipo tupla não permite ser alterado"
      ],
      "metadata": {
        "id": "_IwJjD_O1XOk"
      }
    },
    {
      "cell_type": "code",
      "source": [
        "t = (1,2,3)"
      ],
      "metadata": {
        "id": "YKT-WK4C1Sxk"
      },
      "execution_count": 86,
      "outputs": []
    },
    {
      "cell_type": "code",
      "source": [
        "t[0]"
      ],
      "metadata": {
        "colab": {
          "base_uri": "https://localhost:8080/"
        },
        "id": "-taJRORr1WJU",
        "outputId": "e6f46b76-3b97-4d82-ff4a-244bc05301c3"
      },
      "execution_count": 87,
      "outputs": [
        {
          "output_type": "execute_result",
          "data": {
            "text/plain": [
              "1"
            ]
          },
          "metadata": {},
          "execution_count": 87
        }
      ]
    },
    {
      "cell_type": "code",
      "source": [
        "t[0] = 'new'"
      ],
      "metadata": {
        "colab": {
          "base_uri": "https://localhost:8080/",
          "height": 141
        },
        "id": "8j7qlrav1nqk",
        "outputId": "fd37e64e-188d-49c5-ff58-77fe4948c370"
      },
      "execution_count": 88,
      "outputs": [
        {
          "output_type": "error",
          "ename": "TypeError",
          "evalue": "'tuple' object does not support item assignment",
          "traceback": [
            "\u001b[0;31m---------------------------------------------------------------------------\u001b[0m",
            "\u001b[0;31mTypeError\u001b[0m                                 Traceback (most recent call last)",
            "\u001b[0;32m<ipython-input-88-f469ab99125e>\u001b[0m in \u001b[0;36m<cell line: 1>\u001b[0;34m()\u001b[0m\n\u001b[0;32m----> 1\u001b[0;31m \u001b[0mt\u001b[0m\u001b[0;34m[\u001b[0m\u001b[0;36m0\u001b[0m\u001b[0;34m]\u001b[0m \u001b[0;34m=\u001b[0m \u001b[0;34m'new'\u001b[0m\u001b[0;34m\u001b[0m\u001b[0;34m\u001b[0m\u001b[0m\n\u001b[0m",
            "\u001b[0;31mTypeError\u001b[0m: 'tuple' object does not support item assignment"
          ]
        }
      ]
    },
    {
      "cell_type": "markdown",
      "source": [
        "### Sets\n",
        "\n",
        "desconsidera itens repetidos"
      ],
      "metadata": {
        "id": "gnBaTtg91wSw"
      }
    },
    {
      "cell_type": "code",
      "source": [
        "{1,2,3}"
      ],
      "metadata": {
        "colab": {
          "base_uri": "https://localhost:8080/"
        },
        "id": "ZZQljT9q1t3_",
        "outputId": "b89356e4-bade-4d81-860e-7f8109c8f579"
      },
      "execution_count": 89,
      "outputs": [
        {
          "output_type": "execute_result",
          "data": {
            "text/plain": [
              "{1, 2, 3}"
            ]
          },
          "metadata": {},
          "execution_count": 89
        }
      ]
    },
    {
      "cell_type": "code",
      "source": [
        "{1, 1, 1, 2, 2, 2, 3, 3, 3, 3, 3}"
      ],
      "metadata": {
        "colab": {
          "base_uri": "https://localhost:8080/"
        },
        "id": "WRYhn3p-11ZP",
        "outputId": "deade864-08dc-470c-d60f-ee9a5752dffc"
      },
      "execution_count": 90,
      "outputs": [
        {
          "output_type": "execute_result",
          "data": {
            "text/plain": [
              "{1, 2, 3}"
            ]
          },
          "metadata": {},
          "execution_count": 90
        }
      ]
    },
    {
      "cell_type": "markdown",
      "source": [
        "## Operadores de comparação"
      ],
      "metadata": {
        "id": "At3Qvl4F7HGH"
      }
    },
    {
      "cell_type": "code",
      "source": [
        "1==1"
      ],
      "metadata": {
        "id": "gpVdi9bx157P"
      },
      "execution_count": null,
      "outputs": []
    },
    {
      "cell_type": "code",
      "source": [
        "1!=1"
      ],
      "metadata": {
        "id": "-YmIy5OY7OyH"
      },
      "execution_count": null,
      "outputs": []
    },
    {
      "cell_type": "code",
      "source": [
        "1<2"
      ],
      "metadata": {
        "id": "YhJoyMPb7QWn"
      },
      "execution_count": null,
      "outputs": []
    },
    {
      "cell_type": "code",
      "source": [
        "1<=2"
      ],
      "metadata": {
        "id": "M1Pkl29B7SDH"
      },
      "execution_count": null,
      "outputs": []
    },
    {
      "cell_type": "code",
      "source": [
        "1>2"
      ],
      "metadata": {
        "id": "TF8Qn-T87VUX"
      },
      "execution_count": null,
      "outputs": []
    },
    {
      "cell_type": "code",
      "source": [
        "1>=2"
      ],
      "metadata": {
        "id": "sp4uu5iS7W-3"
      },
      "execution_count": null,
      "outputs": []
    },
    {
      "cell_type": "code",
      "source": [
        "'hi' =='bye'"
      ],
      "metadata": {
        "id": "dPTB5Bo17Xz9"
      },
      "execution_count": null,
      "outputs": []
    },
    {
      "cell_type": "markdown",
      "source": [
        "## Operadores Logicos"
      ],
      "metadata": {
        "id": "bYrlLLln7dcX"
      }
    },
    {
      "cell_type": "code",
      "source": [
        "(1>2) and (2<3)"
      ],
      "metadata": {
        "id": "hpDJx7wC7a03"
      },
      "execution_count": null,
      "outputs": []
    },
    {
      "cell_type": "code",
      "source": [
        "(1>2) or (2<3)"
      ],
      "metadata": {
        "id": "xFvsiuZf7m0H"
      },
      "execution_count": null,
      "outputs": []
    },
    {
      "cell_type": "code",
      "source": [
        "(1==2) or (2==3) or (4==4)"
      ],
      "metadata": {
        "id": "2uYt2M0Y7shr"
      },
      "execution_count": null,
      "outputs": []
    },
    {
      "cell_type": "markdown",
      "source": [
        "## Desvios condicionais (declarações if, else, elif)"
      ],
      "metadata": {
        "id": "5Jnj7wZX77RC"
      }
    },
    {
      "cell_type": "code",
      "source": [
        "if (1 < 2):\n",
        "  print('correto')"
      ],
      "metadata": {
        "colab": {
          "base_uri": "https://localhost:8080/"
        },
        "id": "Zl-hKkRt72yb",
        "outputId": "c6ab676c-85c1-492b-f53d-6d1cae5e9a8f"
      },
      "execution_count": 93,
      "outputs": [
        {
          "output_type": "stream",
          "name": "stdout",
          "text": [
            "correto\n"
          ]
        }
      ]
    },
    {
      "cell_type": "code",
      "source": [
        "if (1 > 2):\n",
        "  print('correto')"
      ],
      "metadata": {
        "id": "IxXjXhiW8ZTt"
      },
      "execution_count": 94,
      "outputs": []
    },
    {
      "cell_type": "code",
      "source": [
        "if (1 < 2):\n",
        "  print('correto')\n",
        "else:\n",
        "    print('incorreto')"
      ],
      "metadata": {
        "colab": {
          "base_uri": "https://localhost:8080/"
        },
        "id": "xATRQKRu8naJ",
        "outputId": "ca8bd6ad-3d8e-44cc-8f82-571d4492f55e"
      },
      "execution_count": 95,
      "outputs": [
        {
          "output_type": "stream",
          "name": "stdout",
          "text": [
            "correto\n"
          ]
        }
      ]
    },
    {
      "cell_type": "code",
      "source": [
        "if (1 > 2):\n",
        "  print('correto')\n",
        "else:\n",
        "    print('incorreto')"
      ],
      "metadata": {
        "colab": {
          "base_uri": "https://localhost:8080/"
        },
        "id": "sn7X6_VP8xY5",
        "outputId": "dcf8cc1e-d2de-48ca-de32-ca9238e939be"
      },
      "execution_count": 96,
      "outputs": [
        {
          "output_type": "stream",
          "name": "stdout",
          "text": [
            "incorreto\n"
          ]
        }
      ]
    },
    {
      "cell_type": "code",
      "source": [
        "if 1==2:\n",
        "  print('first')\n",
        "elif 3==3:\n",
        "  print('middle')\n",
        "else:\n",
        "  print('last')"
      ],
      "metadata": {
        "colab": {
          "base_uri": "https://localhost:8080/"
        },
        "id": "aZO3eUXT839z",
        "outputId": "440466c9-1575-49c7-de52-838af4726df6"
      },
      "execution_count": 97,
      "outputs": [
        {
          "output_type": "stream",
          "name": "stdout",
          "text": [
            "middle\n"
          ]
        }
      ]
    },
    {
      "cell_type": "code",
      "source": [
        "if 1==2:\n",
        "  print('first')\n",
        "elif 3==4:\n",
        "  print('middle')\n",
        "else:\n",
        "  print('last')"
      ],
      "metadata": {
        "colab": {
          "base_uri": "https://localhost:8080/"
        },
        "id": "qP-vvWDQ9PTE",
        "outputId": "4977b38a-2ead-4895-b732-745cfb4f7b91"
      },
      "execution_count": 98,
      "outputs": [
        {
          "output_type": "stream",
          "name": "stdout",
          "text": [
            "last\n"
          ]
        }
      ]
    },
    {
      "cell_type": "markdown",
      "source": [
        "## Laço for"
      ],
      "metadata": {
        "id": "yHROZZLZ9c1N"
      }
    },
    {
      "cell_type": "code",
      "source": [
        "seq = [1,2,3,4,5]"
      ],
      "metadata": {
        "id": "UNG9klqm9Ua1"
      },
      "execution_count": 99,
      "outputs": []
    },
    {
      "cell_type": "code",
      "source": [
        "for item in seq:\n",
        "  print(item)"
      ],
      "metadata": {
        "colab": {
          "base_uri": "https://localhost:8080/"
        },
        "id": "iCUpHaA_9iNG",
        "outputId": "6f722cd5-ba32-4fec-ad99-7640c17f0aad"
      },
      "execution_count": 100,
      "outputs": [
        {
          "output_type": "stream",
          "name": "stdout",
          "text": [
            "1\n",
            "2\n",
            "3\n",
            "4\n",
            "5\n"
          ]
        }
      ]
    },
    {
      "cell_type": "code",
      "source": [
        "for item in seq:\n",
        "  print(1)"
      ],
      "metadata": {
        "colab": {
          "base_uri": "https://localhost:8080/"
        },
        "id": "kc4CF9QK91WG",
        "outputId": "c36de33f-a238-4034-89fd-f60c17d4f1a8"
      },
      "execution_count": 101,
      "outputs": [
        {
          "output_type": "stream",
          "name": "stdout",
          "text": [
            "1\n",
            "1\n",
            "1\n",
            "1\n",
            "1\n"
          ]
        }
      ]
    },
    {
      "cell_type": "code",
      "source": [
        "for item in seq:\n",
        "  print(item+item)"
      ],
      "metadata": {
        "colab": {
          "base_uri": "https://localhost:8080/"
        },
        "id": "nRmEsm6X-uSK",
        "outputId": "1b8be904-04c2-43e5-a2f7-a62357e28d8d"
      },
      "execution_count": 102,
      "outputs": [
        {
          "output_type": "stream",
          "name": "stdout",
          "text": [
            "2\n",
            "4\n",
            "6\n",
            "8\n",
            "10\n"
          ]
        }
      ]
    },
    {
      "cell_type": "markdown",
      "source": [
        "## Laço while"
      ],
      "metadata": {
        "id": "RSaMp56R-z-p"
      }
    },
    {
      "cell_type": "code",
      "source": [
        "i=1\n",
        "while i<5:\n",
        "  print(f'o valor de i é {i}')\n",
        "  i=i+1"
      ],
      "metadata": {
        "colab": {
          "base_uri": "https://localhost:8080/"
        },
        "id": "989yECro-wvZ",
        "outputId": "9575952c-33e3-4a70-f3e1-619457b86372"
      },
      "execution_count": 103,
      "outputs": [
        {
          "output_type": "stream",
          "name": "stdout",
          "text": [
            "o valor de i é 1\n",
            "o valor de i é 2\n",
            "o valor de i é 3\n",
            "o valor de i é 4\n"
          ]
        }
      ]
    },
    {
      "cell_type": "markdown",
      "source": [
        "## range()"
      ],
      "metadata": {
        "id": "HYD7fbqY_PdN"
      }
    },
    {
      "cell_type": "code",
      "source": [
        "range(5)"
      ],
      "metadata": {
        "colab": {
          "base_uri": "https://localhost:8080/"
        },
        "id": "tEyAq26s_LcW",
        "outputId": "7d8e1d68-fc05-4b44-dfc3-9767c84f325a"
      },
      "execution_count": 104,
      "outputs": [
        {
          "output_type": "execute_result",
          "data": {
            "text/plain": [
              "range(0, 5)"
            ]
          },
          "metadata": {},
          "execution_count": 104
        }
      ]
    },
    {
      "cell_type": "code",
      "source": [
        "for i in range(5):\n",
        "  print(i)"
      ],
      "metadata": {
        "colab": {
          "base_uri": "https://localhost:8080/"
        },
        "id": "sf8Cg0oZ_Ys6",
        "outputId": "f8650204-9098-4013-ca44-dc4171906afd"
      },
      "execution_count": 105,
      "outputs": [
        {
          "output_type": "stream",
          "name": "stdout",
          "text": [
            "0\n",
            "1\n",
            "2\n",
            "3\n",
            "4\n"
          ]
        }
      ]
    },
    {
      "cell_type": "code",
      "source": [
        "list(range(5))"
      ],
      "metadata": {
        "colab": {
          "base_uri": "https://localhost:8080/"
        },
        "id": "iolD0qgY_krb",
        "outputId": "d500bdc6-0d42-4244-9d46-731e57662d61"
      },
      "execution_count": 106,
      "outputs": [
        {
          "output_type": "execute_result",
          "data": {
            "text/plain": [
              "[0, 1, 2, 3, 4]"
            ]
          },
          "metadata": {},
          "execution_count": 106
        }
      ]
    },
    {
      "cell_type": "markdown",
      "source": [
        "## Funções"
      ],
      "metadata": {
        "id": "FTRYmA6TBhlJ"
      }
    },
    {
      "cell_type": "code",
      "source": [
        "def my_func(param1='defaut'):\n",
        "  \"\"\"\n",
        "  Documentação\n",
        "  \"\"\"\n",
        "  print(param1)"
      ],
      "metadata": {
        "id": "s-oqXz52_o-s"
      },
      "execution_count": 107,
      "outputs": []
    },
    {
      "cell_type": "code",
      "source": [
        "my_func"
      ],
      "metadata": {
        "colab": {
          "base_uri": "https://localhost:8080/",
          "height": 104
        },
        "id": "8Yg-rpY_B-1b",
        "outputId": "f54156bb-beb5-4fb4-acc0-d182e166d45d"
      },
      "execution_count": 108,
      "outputs": [
        {
          "output_type": "execute_result",
          "data": {
            "text/plain": [
              "<function __main__.my_func(param1='defaut')>"
            ],
            "text/html": [
              "<div style=\"max-width:800px; border: 1px solid var(--colab-border-color);\"><style>\n",
              "      pre.function-repr-contents {\n",
              "        overflow-x: auto;\n",
              "        padding: 8px 12px;\n",
              "        max-height: 500px;\n",
              "      }\n",
              "\n",
              "      pre.function-repr-contents.function-repr-contents-collapsed {\n",
              "        cursor: pointer;\n",
              "        max-height: 100px;\n",
              "      }\n",
              "    </style>\n",
              "    <pre style=\"white-space: initial; background:\n",
              "         var(--colab-secondary-surface-color); padding: 8px 12px;\n",
              "         border-bottom: 1px solid var(--colab-border-color);\"><b>my_func</b><br/>def my_func(param1=&#x27;defaut&#x27;)</pre><pre class=\"function-repr-contents function-repr-contents-collapsed\" style=\"\"><a class=\"filepath\" style=\"display:none\" href=\"#\">/content/Curso-intensivo-Python---Inteligencia-Artificial-UAM/Curso-intensivo-Python---Inteligencia-Artificial-UAM/&lt;ipython-input-107-02151a539226&gt;</a>Documentação</pre></div>"
            ]
          },
          "metadata": {},
          "execution_count": 108
        }
      ]
    },
    {
      "cell_type": "code",
      "source": [
        "my_func()"
      ],
      "metadata": {
        "colab": {
          "base_uri": "https://localhost:8080/"
        },
        "id": "zMREtlYlCDy7",
        "outputId": "4e486319-80e6-4262-d0be-e88d2c5f47d6"
      },
      "execution_count": 109,
      "outputs": [
        {
          "output_type": "stream",
          "name": "stdout",
          "text": [
            "defaut\n"
          ]
        }
      ]
    },
    {
      "cell_type": "code",
      "source": [
        "my_func('new param')"
      ],
      "metadata": {
        "colab": {
          "base_uri": "https://localhost:8080/"
        },
        "id": "Jh11EmuNCHCb",
        "outputId": "ee24573b-9e9b-4644-ed82-7137cd470e03"
      },
      "execution_count": 114,
      "outputs": [
        {
          "output_type": "stream",
          "name": "stdout",
          "text": [
            "new param\n"
          ]
        }
      ]
    },
    {
      "cell_type": "code",
      "source": [
        "my_func(param1='new param')"
      ],
      "metadata": {
        "colab": {
          "base_uri": "https://localhost:8080/"
        },
        "id": "0BDX3k2xCLHr",
        "outputId": "5ef7961e-02d7-426a-f68e-5188d007dfad"
      },
      "execution_count": 115,
      "outputs": [
        {
          "output_type": "stream",
          "name": "stdout",
          "text": [
            "new param\n"
          ]
        }
      ]
    },
    {
      "cell_type": "code",
      "source": [
        "def square(x):\n",
        "  return x**2"
      ],
      "metadata": {
        "id": "wUoXc25dCQbb"
      },
      "execution_count": 116,
      "outputs": []
    },
    {
      "cell_type": "code",
      "source": [
        "out = square(2)\n",
        "print(out)"
      ],
      "metadata": {
        "colab": {
          "base_uri": "https://localhost:8080/"
        },
        "id": "uqzJqTNGCm7f",
        "outputId": "cd5dbe7e-30e2-46d5-bb13-6f248486e854"
      },
      "execution_count": 117,
      "outputs": [
        {
          "output_type": "stream",
          "name": "stdout",
          "text": [
            "4\n"
          ]
        }
      ]
    },
    {
      "cell_type": "markdown",
      "source": [
        "## Expressões lambda\n",
        "\n",
        "função definida temporariamente no meio do código, sem necesisdade de ser declarada"
      ],
      "metadata": {
        "id": "RaNlyUwUC2dV"
      }
    },
    {
      "cell_type": "code",
      "source": [
        "\n",
        "def times2(var):\n",
        "  return var*2"
      ],
      "metadata": {
        "id": "WTxRC_GrCp9_"
      },
      "execution_count": 118,
      "outputs": []
    },
    {
      "cell_type": "code",
      "source": [
        "\n",
        "times2(2)"
      ],
      "metadata": {
        "colab": {
          "base_uri": "https://localhost:8080/"
        },
        "id": "pwahy9kYDFGt",
        "outputId": "b00686cd-0eee-4f91-bf52-81532add4d9f"
      },
      "execution_count": 119,
      "outputs": [
        {
          "output_type": "execute_result",
          "data": {
            "text/plain": [
              "4"
            ]
          },
          "metadata": {},
          "execution_count": 119
        }
      ]
    },
    {
      "cell_type": "code",
      "source": [
        "\n",
        "lambda var:var*2"
      ],
      "metadata": {
        "colab": {
          "base_uri": "https://localhost:8080/"
        },
        "id": "i7l661EYDKc9",
        "outputId": "cf91fe7d-1c06-41d3-8fd4-e8c27a3b10be"
      },
      "execution_count": 120,
      "outputs": [
        {
          "output_type": "execute_result",
          "data": {
            "text/plain": [
              "<function __main__.<lambda>(var)>"
            ]
          },
          "metadata": {},
          "execution_count": 120
        }
      ]
    },
    {
      "cell_type": "markdown",
      "source": [
        "## map e filter"
      ],
      "metadata": {
        "id": "IDdp7X5gDerR"
      }
    },
    {
      "cell_type": "code",
      "source": [
        "\n",
        "seq =[1,2,3,4,5]"
      ],
      "metadata": {
        "id": "ooDzDjohDOxN"
      },
      "execution_count": 121,
      "outputs": []
    },
    {
      "cell_type": "code",
      "source": [
        "map(times2,seq)"
      ],
      "metadata": {
        "colab": {
          "base_uri": "https://localhost:8080/"
        },
        "id": "7qhFr3T8DmF-",
        "outputId": "dc4be154-c994-4798-a548-f75bac3570f4"
      },
      "execution_count": 122,
      "outputs": [
        {
          "output_type": "execute_result",
          "data": {
            "text/plain": [
              "<map at 0x7d263a5d51e0>"
            ]
          },
          "metadata": {},
          "execution_count": 122
        }
      ]
    },
    {
      "cell_type": "markdown",
      "source": [
        "map aplica função para uma determinada lista, porém retorno não é uma variável, é um ponteiro"
      ],
      "metadata": {
        "id": "pscDlK6YDr9u"
      }
    },
    {
      "cell_type": "code",
      "source": [
        "list(map(times2,seq))"
      ],
      "metadata": {
        "colab": {
          "base_uri": "https://localhost:8080/"
        },
        "id": "pmcVez_4DrB-",
        "outputId": "81c56a01-b17c-4df3-e761-27e2438c6150"
      },
      "execution_count": 123,
      "outputs": [
        {
          "output_type": "execute_result",
          "data": {
            "text/plain": [
              "[2, 4, 6, 8, 10]"
            ]
          },
          "metadata": {},
          "execution_count": 123
        }
      ]
    },
    {
      "cell_type": "code",
      "source": [
        "list(map(lambda var:var*2,seq))"
      ],
      "metadata": {
        "colab": {
          "base_uri": "https://localhost:8080/"
        },
        "id": "MQ4YSqqLD-jD",
        "outputId": "02a3aa55-944f-46ff-e9bd-3ccdc35b5865"
      },
      "execution_count": 124,
      "outputs": [
        {
          "output_type": "execute_result",
          "data": {
            "text/plain": [
              "[2, 4, 6, 8, 10]"
            ]
          },
          "metadata": {},
          "execution_count": 124
        }
      ]
    },
    {
      "cell_type": "code",
      "source": [
        "filter(lambda item: item%2 == 0, seq)"
      ],
      "metadata": {
        "colab": {
          "base_uri": "https://localhost:8080/"
        },
        "id": "6iQBHWv1ENCr",
        "outputId": "f9a9809e-8538-465d-da25-eba322cb1b6d"
      },
      "execution_count": 125,
      "outputs": [
        {
          "output_type": "execute_result",
          "data": {
            "text/plain": [
              "<filter at 0x7d263a5d55d0>"
            ]
          },
          "metadata": {},
          "execution_count": 125
        }
      ]
    },
    {
      "cell_type": "markdown",
      "source": [
        "assim como map indica apenas um endereço de memória"
      ],
      "metadata": {
        "id": "uhPc5pvtEuKz"
      }
    },
    {
      "cell_type": "code",
      "source": [
        "list(filter(lambda item: item%2 == 0, seq))"
      ],
      "metadata": {
        "colab": {
          "base_uri": "https://localhost:8080/"
        },
        "id": "TvahqPAyEkQK",
        "outputId": "c806f650-65ba-4b76-9279-c25204ee2595"
      },
      "execution_count": 126,
      "outputs": [
        {
          "output_type": "execute_result",
          "data": {
            "text/plain": [
              "[2, 4]"
            ]
          },
          "metadata": {},
          "execution_count": 126
        }
      ]
    },
    {
      "cell_type": "markdown",
      "source": [
        "## Métodos"
      ],
      "metadata": {
        "id": "VVH9UW7JE3xT"
      }
    },
    {
      "cell_type": "markdown",
      "source": [
        "### métodos em strings"
      ],
      "metadata": {
        "id": "IQfbZb0vG8xM"
      }
    },
    {
      "cell_type": "code",
      "source": [
        "st = \"Olá meu nome é Nathalie\""
      ],
      "metadata": {
        "id": "5DDtPyDDEnca"
      },
      "execution_count": 127,
      "outputs": []
    },
    {
      "cell_type": "code",
      "source": [
        "st.lower()"
      ],
      "metadata": {
        "colab": {
          "base_uri": "https://localhost:8080/",
          "height": 35
        },
        "id": "wL70E02GFQF9",
        "outputId": "58e3388b-a747-4a85-d05c-d8141ea6c3a6"
      },
      "execution_count": 128,
      "outputs": [
        {
          "output_type": "execute_result",
          "data": {
            "text/plain": [
              "'olá meu nome é nathalie'"
            ],
            "application/vnd.google.colaboratory.intrinsic+json": {
              "type": "string"
            }
          },
          "metadata": {},
          "execution_count": 128
        }
      ]
    },
    {
      "cell_type": "code",
      "source": [
        "st.upper()"
      ],
      "metadata": {
        "colab": {
          "base_uri": "https://localhost:8080/",
          "height": 35
        },
        "id": "8Co1ZrFfFSmt",
        "outputId": "8b0ec2a4-4da4-45d1-f108-60c172ad0d65"
      },
      "execution_count": 129,
      "outputs": [
        {
          "output_type": "execute_result",
          "data": {
            "text/plain": [
              "'OLÁ MEU NOME É NATHALIE'"
            ],
            "application/vnd.google.colaboratory.intrinsic+json": {
              "type": "string"
            }
          },
          "metadata": {},
          "execution_count": 129
        }
      ]
    },
    {
      "cell_type": "code",
      "source": [
        "st.split()"
      ],
      "metadata": {
        "colab": {
          "base_uri": "https://localhost:8080/"
        },
        "id": "uAmbCbFvFUue",
        "outputId": "1428eaeb-09e5-4613-d46b-9f3051522853"
      },
      "execution_count": 130,
      "outputs": [
        {
          "output_type": "execute_result",
          "data": {
            "text/plain": [
              "['Olá', 'meu', 'nome', 'é', 'Nathalie']"
            ]
          },
          "metadata": {},
          "execution_count": 130
        }
      ]
    },
    {
      "cell_type": "code",
      "source": [
        "tweet = \" Vai Gremio! #Gremio \""
      ],
      "metadata": {
        "id": "iRwlDGWRFXTu"
      },
      "execution_count": 131,
      "outputs": []
    },
    {
      "cell_type": "code",
      "source": [
        "tweet.split('#')"
      ],
      "metadata": {
        "colab": {
          "base_uri": "https://localhost:8080/"
        },
        "id": "C1VkOSwlGBXc",
        "outputId": "d024d8a2-a82a-478f-ee16-9929e7438b1c"
      },
      "execution_count": 132,
      "outputs": [
        {
          "output_type": "execute_result",
          "data": {
            "text/plain": [
              "[' Vai Gremio! ', 'Gremio ']"
            ]
          },
          "metadata": {},
          "execution_count": 132
        }
      ]
    },
    {
      "cell_type": "code",
      "source": [
        "email = \"nathalietaylorfonoaudiologia@gmail.com\""
      ],
      "metadata": {
        "id": "qN5qBeN8GJGc"
      },
      "execution_count": 133,
      "outputs": []
    },
    {
      "cell_type": "code",
      "source": [
        "tweet.split('#')[1]"
      ],
      "metadata": {
        "colab": {
          "base_uri": "https://localhost:8080/",
          "height": 35
        },
        "id": "S5txIqmvGgY6",
        "outputId": "31a7989f-a0dc-452c-d783-30270878fbce"
      },
      "execution_count": 134,
      "outputs": [
        {
          "output_type": "execute_result",
          "data": {
            "text/plain": [
              "'Gremio '"
            ],
            "application/vnd.google.colaboratory.intrinsic+json": {
              "type": "string"
            }
          },
          "metadata": {},
          "execution_count": 134
        }
      ]
    },
    {
      "cell_type": "code",
      "source": [
        "email.split('@')"
      ],
      "metadata": {
        "colab": {
          "base_uri": "https://localhost:8080/"
        },
        "id": "KO0PEjY1GaoR",
        "outputId": "5a8035a7-adc6-41b7-f2aa-59b710e8b65c"
      },
      "execution_count": 135,
      "outputs": [
        {
          "output_type": "execute_result",
          "data": {
            "text/plain": [
              "['nathalietaylorfonoaudiologia', 'gmail.com']"
            ]
          },
          "metadata": {},
          "execution_count": 135
        }
      ]
    },
    {
      "cell_type": "code",
      "source": [
        "email.split('@')[0]"
      ],
      "metadata": {
        "colab": {
          "base_uri": "https://localhost:8080/",
          "height": 35
        },
        "id": "a4iKNNEBGdeR",
        "outputId": "e6142b56-16e9-47df-ef03-1b87a4d72175"
      },
      "execution_count": 136,
      "outputs": [
        {
          "output_type": "execute_result",
          "data": {
            "text/plain": [
              "'nathalietaylorfonoaudiologia'"
            ],
            "application/vnd.google.colaboratory.intrinsic+json": {
              "type": "string"
            }
          },
          "metadata": {},
          "execution_count": 136
        }
      ]
    },
    {
      "cell_type": "markdown",
      "source": [
        "### métodos em dicionários - keys e itens"
      ],
      "metadata": {
        "id": "VyYEhybMG2QD"
      }
    },
    {
      "cell_type": "code",
      "source": [
        "d = {'key1':'item1', 'key2':'item2'}"
      ],
      "metadata": {
        "id": "hCs3vJaVGrji"
      },
      "execution_count": 137,
      "outputs": []
    },
    {
      "cell_type": "code",
      "source": [
        "d.keys()"
      ],
      "metadata": {
        "colab": {
          "base_uri": "https://localhost:8080/"
        },
        "id": "GQn3TgXNHBjU",
        "outputId": "f5e6c595-8b4d-45e1-ae53-c65491d1192c"
      },
      "execution_count": 138,
      "outputs": [
        {
          "output_type": "execute_result",
          "data": {
            "text/plain": [
              "dict_keys(['key1', 'key2'])"
            ]
          },
          "metadata": {},
          "execution_count": 138
        }
      ]
    },
    {
      "cell_type": "code",
      "source": [
        "d.items()"
      ],
      "metadata": {
        "colab": {
          "base_uri": "https://localhost:8080/"
        },
        "id": "6WMUKNvoHDzl",
        "outputId": "9aff069f-181e-45e4-e93b-7be3dca840c0"
      },
      "execution_count": 139,
      "outputs": [
        {
          "output_type": "execute_result",
          "data": {
            "text/plain": [
              "dict_items([('key1', 'item1'), ('key2', 'item2')])"
            ]
          },
          "metadata": {},
          "execution_count": 139
        }
      ]
    },
    {
      "cell_type": "markdown",
      "source": [
        "### métodos em listas"
      ],
      "metadata": {
        "id": "f9p8rlkmHtqW"
      }
    },
    {
      "cell_type": "code",
      "source": [
        "lst=[1,2,3]"
      ],
      "metadata": {
        "id": "GrvKF1AfHFj1"
      },
      "execution_count": 140,
      "outputs": []
    },
    {
      "cell_type": "code",
      "source": [
        "lst.pop()"
      ],
      "metadata": {
        "colab": {
          "base_uri": "https://localhost:8080/"
        },
        "id": "eUyvXeaRHL8D",
        "outputId": "d6be677a-a9f2-4801-eb7a-0e80d535ed86"
      },
      "execution_count": 141,
      "outputs": [
        {
          "output_type": "execute_result",
          "data": {
            "text/plain": [
              "3"
            ]
          },
          "metadata": {},
          "execution_count": 141
        }
      ]
    },
    {
      "cell_type": "code",
      "source": [
        "lst"
      ],
      "metadata": {
        "colab": {
          "base_uri": "https://localhost:8080/"
        },
        "id": "9NEeZ66UHNnz",
        "outputId": "f08c7ef2-8872-459a-a3e8-ec4a67bd9716"
      },
      "execution_count": 142,
      "outputs": [
        {
          "output_type": "execute_result",
          "data": {
            "text/plain": [
              "[1, 2]"
            ]
          },
          "metadata": {},
          "execution_count": 142
        }
      ]
    },
    {
      "cell_type": "code",
      "source": [
        "'x' in [1,2,3]"
      ],
      "metadata": {
        "colab": {
          "base_uri": "https://localhost:8080/"
        },
        "id": "r7K-hjqIHOmj",
        "outputId": "caaaf1c8-8039-4faa-92ed-74074675f329"
      },
      "execution_count": 143,
      "outputs": [
        {
          "output_type": "execute_result",
          "data": {
            "text/plain": [
              "False"
            ]
          },
          "metadata": {},
          "execution_count": 143
        }
      ]
    },
    {
      "cell_type": "code",
      "source": [
        "'x' in ['x', 'y', 'z']"
      ],
      "metadata": {
        "colab": {
          "base_uri": "https://localhost:8080/"
        },
        "id": "hTJIAMnrHX_j",
        "outputId": "445e967a-6fe8-4eed-e290-8972c0a47263"
      },
      "execution_count": 144,
      "outputs": [
        {
          "output_type": "execute_result",
          "data": {
            "text/plain": [
              "True"
            ]
          },
          "metadata": {},
          "execution_count": 144
        }
      ]
    },
    {
      "cell_type": "markdown",
      "source": [
        "# Numpy"
      ],
      "metadata": {
        "id": "ONesN6rIxKg7"
      }
    },
    {
      "cell_type": "markdown",
      "source": [
        "O Numpy é uma biblioteca de algebra linear para python. A razão de sua importancia vem do fato de que praticamente todas as bibliotecas do ecossistema Python dependem do Numpy. Além disso ela é rápida pois tem conexões com bibliotecas do C."
      ],
      "metadata": {
        "id": "YI5vbZd6xSR8"
      }
    },
    {
      "cell_type": "markdown",
      "source": [
        "Pode-se criar uma array convertendo diretamente uma lista ou listas de lista"
      ],
      "metadata": {
        "id": "e27sVruvxVtk"
      }
    },
    {
      "cell_type": "code",
      "source": [
        "import numpy as np"
      ],
      "metadata": {
        "id": "A-HKSZOPxpAl"
      },
      "execution_count": 145,
      "outputs": []
    },
    {
      "cell_type": "code",
      "source": [
        "my_list = [1,2,3]"
      ],
      "metadata": {
        "id": "8NUx5Iypxeh3"
      },
      "execution_count": 3,
      "outputs": []
    },
    {
      "cell_type": "code",
      "source": [
        "np.array(my_list)"
      ],
      "metadata": {
        "colab": {
          "base_uri": "https://localhost:8080/"
        },
        "id": "pO8NxA5Rxk2d",
        "outputId": "eccfdae1-a4ca-45b7-ca47-458782415621"
      },
      "execution_count": 4,
      "outputs": [
        {
          "output_type": "execute_result",
          "data": {
            "text/plain": [
              "array([1, 2, 3])"
            ]
          },
          "metadata": {},
          "execution_count": 4
        }
      ]
    },
    {
      "cell_type": "code",
      "source": [
        "my_matrix = [[1,2,3],[4,5,6],[7,8,9]]"
      ],
      "metadata": {
        "id": "v3aKWR4ExsTk"
      },
      "execution_count": 5,
      "outputs": []
    },
    {
      "cell_type": "code",
      "source": [
        "np.array(my_matrix)"
      ],
      "metadata": {
        "colab": {
          "base_uri": "https://localhost:8080/"
        },
        "id": "t2IRvthux1QO",
        "outputId": "4fdfe7b3-d3f6-4625-aab5-dd6d04b822d0"
      },
      "execution_count": 6,
      "outputs": [
        {
          "output_type": "execute_result",
          "data": {
            "text/plain": [
              "array([[1, 2, 3],\n",
              "       [4, 5, 6],\n",
              "       [7, 8, 9]])"
            ]
          },
          "metadata": {},
          "execution_count": 6
        }
      ]
    },
    {
      "cell_type": "markdown",
      "source": [
        "## Metodos de Construção interna"
      ],
      "metadata": {
        "id": "dVIHTNfmyevq"
      }
    },
    {
      "cell_type": "markdown",
      "source": [
        "Existem vários métodos para gerar arrays"
      ],
      "metadata": {
        "id": "dz2g2yynyiTg"
      }
    },
    {
      "cell_type": "markdown",
      "source": [
        "### arange"
      ],
      "metadata": {
        "id": "V_lLE__uymft"
      }
    },
    {
      "cell_type": "markdown",
      "source": [
        "Retorna valores separados igualmente em um dado intervalo\n",
        "* os dois primeiros agurmento se referem ao intervalo e o terceiro ao número da razão"
      ],
      "metadata": {
        "id": "TWhLbvSLyoqr"
      }
    },
    {
      "cell_type": "code",
      "source": [
        "np.arange(0,10)"
      ],
      "metadata": {
        "colab": {
          "base_uri": "https://localhost:8080/"
        },
        "id": "DHyJpoqWx6sJ",
        "outputId": "e9acb80c-ee95-4f98-8347-a1d3766a9967"
      },
      "execution_count": 7,
      "outputs": [
        {
          "output_type": "execute_result",
          "data": {
            "text/plain": [
              "array([0, 1, 2, 3, 4, 5, 6, 7, 8, 9])"
            ]
          },
          "metadata": {},
          "execution_count": 7
        }
      ]
    },
    {
      "cell_type": "code",
      "source": [
        "np.arange(0,11,2)"
      ],
      "metadata": {
        "colab": {
          "base_uri": "https://localhost:8080/"
        },
        "id": "J_5pgMJ3ywix",
        "outputId": "79db4073-faaa-45e6-f488-d9ba82cc9ac2"
      },
      "execution_count": 8,
      "outputs": [
        {
          "output_type": "execute_result",
          "data": {
            "text/plain": [
              "array([ 0,  2,  4,  6,  8, 10])"
            ]
          },
          "metadata": {},
          "execution_count": 8
        }
      ]
    },
    {
      "cell_type": "markdown",
      "source": [
        "neste caso, exibe de 0 (incluso) a 11(excluso), de dois em dois"
      ],
      "metadata": {
        "id": "4jqcDnwMy5uY"
      }
    },
    {
      "cell_type": "markdown",
      "source": [
        "### zeros e ones"
      ],
      "metadata": {
        "id": "K1X0YxJDzDn4"
      }
    },
    {
      "cell_type": "markdown",
      "source": [
        "Gera arrays de zeros e uns"
      ],
      "metadata": {
        "id": "FU0nCEehzICE"
      }
    },
    {
      "cell_type": "code",
      "source": [
        "np.zeros(3)"
      ],
      "metadata": {
        "colab": {
          "base_uri": "https://localhost:8080/"
        },
        "id": "4TgVcfpxy1AD",
        "outputId": "667b5ba9-97ea-4958-e221-58446cedfb5d"
      },
      "execution_count": 9,
      "outputs": [
        {
          "output_type": "execute_result",
          "data": {
            "text/plain": [
              "array([0., 0., 0.])"
            ]
          },
          "metadata": {},
          "execution_count": 9
        }
      ]
    },
    {
      "cell_type": "code",
      "source": [
        "np.zeros((3,3))"
      ],
      "metadata": {
        "colab": {
          "base_uri": "https://localhost:8080/"
        },
        "id": "ouchTiDczPDV",
        "outputId": "b9b58f8b-3a51-469d-fe86-eb41d530a38e"
      },
      "execution_count": 10,
      "outputs": [
        {
          "output_type": "execute_result",
          "data": {
            "text/plain": [
              "array([[0., 0., 0.],\n",
              "       [0., 0., 0.],\n",
              "       [0., 0., 0.]])"
            ]
          },
          "metadata": {},
          "execution_count": 10
        }
      ]
    },
    {
      "cell_type": "code",
      "source": [
        "np.ones((3,3))"
      ],
      "metadata": {
        "colab": {
          "base_uri": "https://localhost:8080/"
        },
        "id": "mFmxqB-5zTGU",
        "outputId": "fd592c8e-9f12-4488-ade2-46ef285f4848"
      },
      "execution_count": 11,
      "outputs": [
        {
          "output_type": "execute_result",
          "data": {
            "text/plain": [
              "array([[1., 1., 1.],\n",
              "       [1., 1., 1.],\n",
              "       [1., 1., 1.]])"
            ]
          },
          "metadata": {},
          "execution_count": 11
        }
      ]
    },
    {
      "cell_type": "markdown",
      "source": [
        "* caso queira uma matriz contendo de 6, é possível multiplicar por 6"
      ],
      "metadata": {
        "id": "Woexzx7JzcxY"
      }
    },
    {
      "cell_type": "code",
      "source": [
        "6*np.ones((3,3))"
      ],
      "metadata": {
        "colab": {
          "base_uri": "https://localhost:8080/"
        },
        "id": "oN2sG59dzYG9",
        "outputId": "0f5ef02e-1762-42b1-8fa9-76f83f87fcaf"
      },
      "execution_count": 12,
      "outputs": [
        {
          "output_type": "execute_result",
          "data": {
            "text/plain": [
              "array([[6., 6., 6.],\n",
              "       [6., 6., 6.],\n",
              "       [6., 6., 6.]])"
            ]
          },
          "metadata": {},
          "execution_count": 12
        }
      ]
    },
    {
      "cell_type": "markdown",
      "source": [
        "### linspace\n",
        "Retorna números igualmente espaçados em um intervalo específico\n",
        "\n",
        "* os dois primeiros agurmento se referem ao intervalo e o terceiro ao número de espaçamentos"
      ],
      "metadata": {
        "id": "x402VItczunk"
      }
    },
    {
      "cell_type": "code",
      "source": [
        "np.linspace(0,10,3)"
      ],
      "metadata": {
        "colab": {
          "base_uri": "https://localhost:8080/"
        },
        "id": "-NP9YlyVzqOA",
        "outputId": "45d09b19-1d97-40e4-b5cc-ddc60db0f06e"
      },
      "execution_count": 13,
      "outputs": [
        {
          "output_type": "execute_result",
          "data": {
            "text/plain": [
              "array([ 0.,  5., 10.])"
            ]
          },
          "metadata": {},
          "execution_count": 13
        }
      ]
    },
    {
      "cell_type": "markdown",
      "source": [
        "### eye\n",
        "Cria uma matriz indentidade (cuja a diagonal principal é 1 e os demais elementos 0)"
      ],
      "metadata": {
        "id": "E7DG_Ywx0z1j"
      }
    },
    {
      "cell_type": "code",
      "source": [
        "np.eye(4)"
      ],
      "metadata": {
        "colab": {
          "base_uri": "https://localhost:8080/"
        },
        "id": "OSgGAFYjz9xn",
        "outputId": "96f749ae-5268-481b-c41f-2c20d9e0b58a"
      },
      "execution_count": 14,
      "outputs": [
        {
          "output_type": "execute_result",
          "data": {
            "text/plain": [
              "array([[1., 0., 0., 0.],\n",
              "       [0., 1., 0., 0.],\n",
              "       [0., 0., 1., 0.],\n",
              "       [0., 0., 0., 1.]])"
            ]
          },
          "metadata": {},
          "execution_count": 14
        }
      ]
    },
    {
      "cell_type": "markdown",
      "source": [
        "### randon\n",
        "o numpy possui várias formas de criar arrays de nºs aleatórios"
      ],
      "metadata": {
        "id": "Bu_6V4IT2AH3"
      }
    },
    {
      "cell_type": "markdown",
      "source": [
        "#### rand\n",
        "\n",
        "cria uma array na forma dada e popula ela com amostras aleatórias de uma distribuição uniforme entre [0,1)\n",
        "\n",
        "*[= 0 incluso, ) = 1 excluso"
      ],
      "metadata": {
        "id": "N5lJPJl62Pf5"
      }
    },
    {
      "cell_type": "code",
      "source": [
        "np.random.rand(2)"
      ],
      "metadata": {
        "colab": {
          "base_uri": "https://localhost:8080/"
        },
        "id": "foBKuZZv1f9q",
        "outputId": "f3ffb480-aad0-4f7c-e080-73c13bb814ab"
      },
      "execution_count": 15,
      "outputs": [
        {
          "output_type": "execute_result",
          "data": {
            "text/plain": [
              "array([0.66010263, 0.42077141])"
            ]
          },
          "metadata": {},
          "execution_count": 15
        }
      ]
    },
    {
      "cell_type": "code",
      "source": [
        "np.random.rand(5,5)"
      ],
      "metadata": {
        "colab": {
          "base_uri": "https://localhost:8080/"
        },
        "id": "yNL-jWfW2kVD",
        "outputId": "317fb414-c4b3-495d-a5ec-2a80e6b757e8"
      },
      "execution_count": 17,
      "outputs": [
        {
          "output_type": "execute_result",
          "data": {
            "text/plain": [
              "array([[0.01804201, 0.72427622, 0.59495608, 0.11203152, 0.3027365 ],\n",
              "       [0.49681726, 0.74180612, 0.55628128, 0.7304506 , 0.83331519],\n",
              "       [0.78249332, 0.78830377, 0.72826663, 0.65967783, 0.28376421],\n",
              "       [0.02151957, 0.28163002, 0.98998017, 0.27204902, 0.66118983],\n",
              "       [0.5083303 , 0.16751562, 0.55425857, 0.05543164, 0.84598311]])"
            ]
          },
          "metadata": {},
          "execution_count": 17
        }
      ]
    },
    {
      "cell_type": "markdown",
      "source": [
        "#### randn\n",
        "Retorna uma amostra (ou amostras) de uma \"distribuição normal padrão\". Diferente do rand, que é uniforme"
      ],
      "metadata": {
        "id": "gKT3lquG28Ea"
      }
    },
    {
      "cell_type": "code",
      "source": [
        "np.random.randn(2,2)"
      ],
      "metadata": {
        "colab": {
          "base_uri": "https://localhost:8080/"
        },
        "id": "RqzpV3102of_",
        "outputId": "6e9838c1-842d-4ba6-d8cf-3529925e2d8b"
      },
      "execution_count": 19,
      "outputs": [
        {
          "output_type": "execute_result",
          "data": {
            "text/plain": [
              "array([[-0.6548352 ,  0.50353037],\n",
              "       [-0.32974551,  2.03555202]])"
            ]
          },
          "metadata": {},
          "execution_count": 19
        }
      ]
    },
    {
      "cell_type": "code",
      "source": [
        "np.random.randn(5,5)"
      ],
      "metadata": {
        "colab": {
          "base_uri": "https://localhost:8080/"
        },
        "id": "wDnOu18G3gNo",
        "outputId": "88b812bc-323b-429f-8295-927b8e5d0385"
      },
      "execution_count": 20,
      "outputs": [
        {
          "output_type": "execute_result",
          "data": {
            "text/plain": [
              "array([[ 1.59346859,  1.39478708, -1.1165814 ,  1.45655684, -0.08751506],\n",
              "       [-2.29391748, -0.86793262, -0.40746771, -0.91151014, -0.43564898],\n",
              "       [ 0.31699529,  0.80195517, -0.06524569, -0.28158024, -1.89788955],\n",
              "       [-0.06944102,  0.54244263, -0.70019053, -0.42610265,  1.77031238],\n",
              "       [ 1.08726401, -1.50114184,  0.77957224,  1.58141431, -0.16792595]])"
            ]
          },
          "metadata": {},
          "execution_count": 20
        }
      ]
    },
    {
      "cell_type": "markdown",
      "source": [
        "#### randint\n",
        "\n",
        "retorna um inteiro aleatório entre low (inclusivo) e high (exclusivo)"
      ],
      "metadata": {
        "id": "cjdSLWHu8oaD"
      }
    },
    {
      "cell_type": "code",
      "source": [
        "np.random.randint(1,100)"
      ],
      "metadata": {
        "colab": {
          "base_uri": "https://localhost:8080/"
        },
        "id": "vJtyVB-i6dnm",
        "outputId": "c8898264-dc3d-4439-b92f-ee3cbfbe9c02"
      },
      "execution_count": 31,
      "outputs": [
        {
          "output_type": "execute_result",
          "data": {
            "text/plain": [
              "21"
            ]
          },
          "metadata": {},
          "execution_count": 31
        }
      ]
    },
    {
      "cell_type": "code",
      "source": [
        "np.random.randint(1,100,200)"
      ],
      "metadata": {
        "colab": {
          "base_uri": "https://localhost:8080/"
        },
        "id": "3YzloNKq9A3s",
        "outputId": "4dd9feb7-0130-4362-ea7e-338e44047ab2"
      },
      "execution_count": 32,
      "outputs": [
        {
          "output_type": "execute_result",
          "data": {
            "text/plain": [
              "array([63, 38, 41, 85, 99, 62, 52, 75, 77, 73, 13, 85, 66, 96, 83, 45, 27,\n",
              "       69, 47,  4, 83, 97, 79, 54, 24, 59, 19, 17, 35, 28, 57,  6, 71, 29,\n",
              "       64, 81, 75, 99, 67, 12, 48, 98, 77, 73, 74, 31, 11, 23, 58, 28, 60,\n",
              "       30, 66, 96, 16, 69, 77, 53, 94,  8, 14, 88, 71, 19, 22, 60, 38,  7,\n",
              "       30, 57, 23, 47, 94, 72,  2, 80, 68, 56, 98, 44, 73, 76, 30, 56, 37,\n",
              "       75, 42, 21, 18, 74, 96, 78, 81, 73,  6, 23, 78, 55, 19, 91, 28, 70,\n",
              "       51, 95, 59, 46, 99, 99, 55, 14, 33, 77, 11, 86, 77, 88, 88, 24, 70,\n",
              "       75,  6, 37, 67, 45, 56, 56, 56, 88,  2, 53, 70, 37,  3, 64,  3, 53,\n",
              "       39, 17, 83, 78, 35, 76, 58, 73, 44, 87, 87, 67, 29, 32,  3, 80, 88,\n",
              "        9, 17,  9, 19, 36, 48, 89, 61, 13, 24, 71, 41, 88, 40, 65, 21, 85,\n",
              "       68, 78, 85, 74, 33, 97, 10, 77, 57, 22, 31, 67, 61, 79, 15, 41, 64,\n",
              "       37, 55, 91, 74, 16, 25, 33, 44, 72,  2, 64, 79, 80])"
            ]
          },
          "metadata": {},
          "execution_count": 32
        }
      ]
    },
    {
      "cell_type": "markdown",
      "source": [
        "### Atributos e Métodos Arrays\n"
      ],
      "metadata": {
        "id": "YPjGcLDoCkKJ"
      }
    },
    {
      "cell_type": "code",
      "source": [
        "arr = np.arange(25)\n",
        "print(arr)\n",
        "ranarr = np.random.randint(0,50,10)\n",
        "print(ranarr)"
      ],
      "metadata": {
        "colab": {
          "base_uri": "https://localhost:8080/"
        },
        "id": "aHLIUiUX9F6-",
        "outputId": "ef35a1a4-6278-426f-9b7e-d1f4a2e63ee9"
      },
      "execution_count": 33,
      "outputs": [
        {
          "output_type": "stream",
          "name": "stdout",
          "text": [
            "[ 0  1  2  3  4  5  6  7  8  9 10 11 12 13 14 15 16 17 18 19 20 21 22 23\n",
            " 24]\n",
            "[ 7 39 21 44 35 28 39 24 24 34]\n"
          ]
        }
      ]
    },
    {
      "cell_type": "markdown",
      "source": [
        "#### reshape\n",
        "Retorna uma array contendo a mesma informação com uma nova forma"
      ],
      "metadata": {
        "id": "mAlfWhkfDi6j"
      }
    },
    {
      "cell_type": "code",
      "source": [
        "arr.reshape(5,5)"
      ],
      "metadata": {
        "colab": {
          "base_uri": "https://localhost:8080/"
        },
        "id": "6mNo3_GADWA7",
        "outputId": "331ec5c2-e84a-4078-d5e7-c474bbe19039"
      },
      "execution_count": 34,
      "outputs": [
        {
          "output_type": "execute_result",
          "data": {
            "text/plain": [
              "array([[ 0,  1,  2,  3,  4],\n",
              "       [ 5,  6,  7,  8,  9],\n",
              "       [10, 11, 12, 13, 14],\n",
              "       [15, 16, 17, 18, 19],\n",
              "       [20, 21, 22, 23, 24]])"
            ]
          },
          "metadata": {},
          "execution_count": 34
        }
      ]
    },
    {
      "cell_type": "markdown",
      "source": [
        "#### max, min, argmax, argmin\n",
        "Estes são os métoso úteis para encontrar valores máximos e mínimos, oou para encontrar seu índice de localização utilizando argmax e argmin"
      ],
      "metadata": {
        "id": "_gYScKPZDxYU"
      }
    },
    {
      "cell_type": "code",
      "source": [
        "ranarr.max()"
      ],
      "metadata": {
        "colab": {
          "base_uri": "https://localhost:8080/"
        },
        "id": "sZ5DNFyZDvqB",
        "outputId": "cbfd357e-b2c6-4a65-b5a6-9b507547cbd0"
      },
      "execution_count": 35,
      "outputs": [
        {
          "output_type": "execute_result",
          "data": {
            "text/plain": [
              "44"
            ]
          },
          "metadata": {},
          "execution_count": 35
        }
      ]
    },
    {
      "cell_type": "code",
      "source": [
        "ranarr.argmax()"
      ],
      "metadata": {
        "colab": {
          "base_uri": "https://localhost:8080/"
        },
        "id": "0D7m7xt-EYVc",
        "outputId": "f8a274fb-8af8-48c2-813c-4aad55ed3752"
      },
      "execution_count": 36,
      "outputs": [
        {
          "output_type": "execute_result",
          "data": {
            "text/plain": [
              "3"
            ]
          },
          "metadata": {},
          "execution_count": 36
        }
      ]
    },
    {
      "cell_type": "code",
      "source": [
        "ranarr.min()"
      ],
      "metadata": {
        "colab": {
          "base_uri": "https://localhost:8080/"
        },
        "id": "q4VtTQGaEbB6",
        "outputId": "972cf160-3504-4b0c-bf7e-214e9664d57e"
      },
      "execution_count": 37,
      "outputs": [
        {
          "output_type": "execute_result",
          "data": {
            "text/plain": [
              "7"
            ]
          },
          "metadata": {},
          "execution_count": 37
        }
      ]
    },
    {
      "cell_type": "code",
      "source": [
        "ranarr.argmin()"
      ],
      "metadata": {
        "colab": {
          "base_uri": "https://localhost:8080/"
        },
        "id": "rOrI83mQErhW",
        "outputId": "ec3375fa-b747-4d31-99c8-3f2e8cae5155"
      },
      "execution_count": 38,
      "outputs": [
        {
          "output_type": "execute_result",
          "data": {
            "text/plain": [
              "0"
            ]
          },
          "metadata": {},
          "execution_count": 38
        }
      ]
    },
    {
      "cell_type": "markdown",
      "source": [
        "#### shape\n",
        "É um atributo que as arrays possuem (não é um método)"
      ],
      "metadata": {
        "id": "_6fWczCsE-Ye"
      }
    },
    {
      "cell_type": "code",
      "source": [
        "arr.shape"
      ],
      "metadata": {
        "colab": {
          "base_uri": "https://localhost:8080/"
        },
        "id": "v_34xjMKEt_R",
        "outputId": "02537323-b366-471e-aa01-f9e538e8605a"
      },
      "execution_count": 39,
      "outputs": [
        {
          "output_type": "execute_result",
          "data": {
            "text/plain": [
              "(25,)"
            ]
          },
          "metadata": {},
          "execution_count": 39
        }
      ]
    },
    {
      "cell_type": "code",
      "source": [
        "arr"
      ],
      "metadata": {
        "colab": {
          "base_uri": "https://localhost:8080/"
        },
        "id": "OMW60CXZFxKW",
        "outputId": "7ff1f7c7-3568-4c7a-f513-80cece0e99e9"
      },
      "execution_count": 40,
      "outputs": [
        {
          "output_type": "execute_result",
          "data": {
            "text/plain": [
              "array([ 0,  1,  2,  3,  4,  5,  6,  7,  8,  9, 10, 11, 12, 13, 14, 15, 16,\n",
              "       17, 18, 19, 20, 21, 22, 23, 24])"
            ]
          },
          "metadata": {},
          "execution_count": 40
        }
      ]
    },
    {
      "cell_type": "markdown",
      "source": [
        "arr é um vetor, quando faz reshape, ele passa a ser uma matriz"
      ],
      "metadata": {
        "id": "NQniTailHO6k"
      }
    },
    {
      "cell_type": "code",
      "source": [
        "arr.reshape(1,25)"
      ],
      "metadata": {
        "colab": {
          "base_uri": "https://localhost:8080/"
        },
        "id": "6PyhZmcCGHbj",
        "outputId": "3b164b11-cde7-40ea-e936-edbd29f3f622"
      },
      "execution_count": 41,
      "outputs": [
        {
          "output_type": "execute_result",
          "data": {
            "text/plain": [
              "array([[ 0,  1,  2,  3,  4,  5,  6,  7,  8,  9, 10, 11, 12, 13, 14, 15,\n",
              "        16, 17, 18, 19, 20, 21, 22, 23, 24]])"
            ]
          },
          "metadata": {},
          "execution_count": 41
        }
      ]
    },
    {
      "cell_type": "markdown",
      "source": [
        "nesse caso, se tornou uma lista dentro da lista\n"
      ],
      "metadata": {
        "id": "xtyW_SacGOVv"
      }
    },
    {
      "cell_type": "code",
      "source": [
        "arr.reshape(1,25).shape"
      ],
      "metadata": {
        "colab": {
          "base_uri": "https://localhost:8080/"
        },
        "id": "Y1IoHS8BGLdE",
        "outputId": "32e68ace-f796-4131-9fa7-c2b27896a5f5"
      },
      "execution_count": 42,
      "outputs": [
        {
          "output_type": "execute_result",
          "data": {
            "text/plain": [
              "(1, 25)"
            ]
          },
          "metadata": {},
          "execution_count": 42
        }
      ]
    },
    {
      "cell_type": "markdown",
      "source": [
        "aqui é como se tivesse virado uma matirz de 1 linha e 25 colunas"
      ],
      "metadata": {
        "id": "GYOwWLobGw1F"
      }
    },
    {
      "cell_type": "code",
      "source": [
        "arr.reshape(25,1)"
      ],
      "metadata": {
        "colab": {
          "base_uri": "https://localhost:8080/"
        },
        "id": "fPQ-FsMZGvJt",
        "outputId": "79da5a47-8df8-47c9-d660-c5a3c8525923"
      },
      "execution_count": 44,
      "outputs": [
        {
          "output_type": "execute_result",
          "data": {
            "text/plain": [
              "array([[ 0],\n",
              "       [ 1],\n",
              "       [ 2],\n",
              "       [ 3],\n",
              "       [ 4],\n",
              "       [ 5],\n",
              "       [ 6],\n",
              "       [ 7],\n",
              "       [ 8],\n",
              "       [ 9],\n",
              "       [10],\n",
              "       [11],\n",
              "       [12],\n",
              "       [13],\n",
              "       [14],\n",
              "       [15],\n",
              "       [16],\n",
              "       [17],\n",
              "       [18],\n",
              "       [19],\n",
              "       [20],\n",
              "       [21],\n",
              "       [22],\n",
              "       [23],\n",
              "       [24]])"
            ]
          },
          "metadata": {},
          "execution_count": 44
        }
      ]
    },
    {
      "cell_type": "code",
      "source": [
        "arr.reshape(25,1).shape"
      ],
      "metadata": {
        "colab": {
          "base_uri": "https://localhost:8080/"
        },
        "id": "PzKMQn4wG8eD",
        "outputId": "eeed54de-f401-4ccd-b49f-a442ae0b8848"
      },
      "execution_count": 45,
      "outputs": [
        {
          "output_type": "execute_result",
          "data": {
            "text/plain": [
              "(25, 1)"
            ]
          },
          "metadata": {},
          "execution_count": 45
        }
      ]
    },
    {
      "cell_type": "markdown",
      "source": [
        "#### dtype\n",
        "Também possível obter o tipo de dado dos objetos de uma array"
      ],
      "metadata": {
        "id": "fV989vMKHcNC"
      }
    },
    {
      "cell_type": "code",
      "source": [
        "arr.dtype"
      ],
      "metadata": {
        "colab": {
          "base_uri": "https://localhost:8080/"
        },
        "id": "shcN0A5KHFJ6",
        "outputId": "0963da1f-6c09-41e0-834d-967467928df2"
      },
      "execution_count": 46,
      "outputs": [
        {
          "output_type": "execute_result",
          "data": {
            "text/plain": [
              "dtype('int64')"
            ]
          },
          "metadata": {},
          "execution_count": 46
        }
      ]
    },
    {
      "cell_type": "markdown",
      "source": [
        "##Indexação e Seleção\n",
        "\n"
      ],
      "metadata": {
        "id": "Q1Mv-fC6H7Pa"
      }
    },
    {
      "cell_type": "markdown",
      "source": [
        "### Indexação e Seleção e colchetes\n",
        "\n",
        "A maneira mais simples para obter algum elemento de uma array é similar ao que se faz com as listas"
      ],
      "metadata": {
        "id": "CJhh9wnXJdxG"
      }
    },
    {
      "cell_type": "code",
      "source": [
        "arr[8]"
      ],
      "metadata": {
        "colab": {
          "base_uri": "https://localhost:8080/"
        },
        "id": "OAS2HtX0HrKx",
        "outputId": "e05552a7-9c27-4d2b-ff86-b439347ecedb"
      },
      "execution_count": 110,
      "outputs": [
        {
          "output_type": "execute_result",
          "data": {
            "text/plain": [
              "8"
            ]
          },
          "metadata": {},
          "execution_count": 110
        }
      ]
    },
    {
      "cell_type": "code",
      "source": [
        "arr[2:5]"
      ],
      "metadata": {
        "colab": {
          "base_uri": "https://localhost:8080/"
        },
        "id": "d0HI1HCkI5px",
        "outputId": "bb4de1c2-943e-4d5c-b724-651d61cab15c"
      },
      "execution_count": 111,
      "outputs": [
        {
          "output_type": "execute_result",
          "data": {
            "text/plain": [
              "array([2, 3, 4])"
            ]
          },
          "metadata": {},
          "execution_count": 111
        }
      ]
    },
    {
      "cell_type": "code",
      "source": [
        "arr[0:5]"
      ],
      "metadata": {
        "colab": {
          "base_uri": "https://localhost:8080/"
        },
        "id": "JjUM9DJnI80N",
        "outputId": "509a9a17-0ca4-4648-82ad-d4c44e72a914"
      },
      "execution_count": 112,
      "outputs": [
        {
          "output_type": "execute_result",
          "data": {
            "text/plain": [
              "array([0, 1, 2, 3, 4])"
            ]
          },
          "metadata": {},
          "execution_count": 112
        }
      ]
    },
    {
      "cell_type": "code",
      "source": [
        "arr[:5]"
      ],
      "metadata": {
        "colab": {
          "base_uri": "https://localhost:8080/"
        },
        "id": "wXiewRbpJAOi",
        "outputId": "2437296a-f0a7-40b6-bd05-c4e303c13aa0"
      },
      "execution_count": 113,
      "outputs": [
        {
          "output_type": "execute_result",
          "data": {
            "text/plain": [
              "array([0, 1, 2, 3, 4])"
            ]
          },
          "metadata": {},
          "execution_count": 113
        }
      ]
    },
    {
      "cell_type": "markdown",
      "source": [
        "### Broadcasting\n",
        "As arrays do numpy deferem de uma lista normal do python por sua capacidade de broadcast"
      ],
      "metadata": {
        "id": "SnlBJ8W8JpPL"
      }
    },
    {
      "cell_type": "code",
      "source": [
        "print(arr)\n",
        "arr[:5] = 100\n",
        "print(arr)"
      ],
      "metadata": {
        "colab": {
          "base_uri": "https://localhost:8080/"
        },
        "id": "B5dbAa5CJELu",
        "outputId": "4c7b5fbb-ddf5-4e46-8151-1c6bf3f16c5a"
      },
      "execution_count": 146,
      "outputs": [
        {
          "output_type": "stream",
          "name": "stdout",
          "text": [
            "[ 0  1  2  3  4  5  6  7  8  9 10 11 12 13 14 15 16 17 18 19 20 21 22 23\n",
            " 24]\n",
            "[100 100 100 100 100   5   6   7   8   9  10  11  12  13  14  15  16  17\n",
            "  18  19  20  21  22  23  24]\n"
          ]
        }
      ]
    },
    {
      "cell_type": "code",
      "source": [
        "arr = np.arange(11)\n",
        "print(arr)"
      ],
      "metadata": {
        "colab": {
          "base_uri": "https://localhost:8080/"
        },
        "id": "cDsT10ZBJ6p6",
        "outputId": "6afc051c-2c7e-4dbf-feff-1ca71d678e59"
      },
      "execution_count": 147,
      "outputs": [
        {
          "output_type": "stream",
          "name": "stdout",
          "text": [
            "[ 0  1  2  3  4  5  6  7  8  9 10]\n"
          ]
        }
      ]
    },
    {
      "cell_type": "code",
      "source": [
        "slice_of_arr=arr[0:5]\n",
        "print(slice_of_arr)"
      ],
      "metadata": {
        "colab": {
          "base_uri": "https://localhost:8080/"
        },
        "id": "2hnT-KS5KOMB",
        "outputId": "67eff97e-ec5c-4ac4-d380-8493f8233843"
      },
      "execution_count": 149,
      "outputs": [
        {
          "output_type": "stream",
          "name": "stdout",
          "text": [
            "[0 1 2 3 4]\n"
          ]
        }
      ]
    },
    {
      "cell_type": "code",
      "source": [
        "slice_of_arr[:] = 99\n",
        "print(slice_of_arr)"
      ],
      "metadata": {
        "colab": {
          "base_uri": "https://localhost:8080/"
        },
        "id": "Uk1RzCw0KTo6",
        "outputId": "66e199c5-f380-4805-b3f2-f8e54f31f368"
      },
      "execution_count": 151,
      "outputs": [
        {
          "output_type": "stream",
          "name": "stdout",
          "text": [
            "[99 99 99 99 99]\n"
          ]
        }
      ]
    },
    {
      "cell_type": "code",
      "source": [
        "print(arr)"
      ],
      "metadata": {
        "colab": {
          "base_uri": "https://localhost:8080/"
        },
        "id": "8Jx76VTGKmIK",
        "outputId": "ee8faaf3-bfba-4918-b565-d10409d94f47"
      },
      "execution_count": 152,
      "outputs": [
        {
          "output_type": "stream",
          "name": "stdout",
          "text": [
            "[99 99 99 99 99  5  6  7  8  9 10]\n"
          ]
        }
      ]
    },
    {
      "cell_type": "markdown",
      "source": [
        "*note que a array original é alterada também"
      ],
      "metadata": {
        "id": "UUzfPNLYKuMx"
      }
    },
    {
      "cell_type": "markdown",
      "source": [
        "para evitar isso pode-se criar uma copia do array original"
      ],
      "metadata": {
        "id": "T6kUUnfwK9z7"
      }
    },
    {
      "cell_type": "code",
      "source": [
        "arr_copy = arr.copy()\n",
        "print(arr_copy)"
      ],
      "metadata": {
        "colab": {
          "base_uri": "https://localhost:8080/"
        },
        "id": "7wwTkZ75Kr2N",
        "outputId": "0db8d64e-85c7-4e69-cea2-8c02d0647a1d"
      },
      "execution_count": 153,
      "outputs": [
        {
          "output_type": "stream",
          "name": "stdout",
          "text": [
            "[99 99 99 99 99  5  6  7  8  9 10]\n"
          ]
        }
      ]
    },
    {
      "cell_type": "code",
      "source": [
        "slice_of_copy = arr_copy[:2]\n",
        "slice_of_copy[:] = 0\n",
        "print(slice_of_copy)"
      ],
      "metadata": {
        "colab": {
          "base_uri": "https://localhost:8080/"
        },
        "id": "cfPGb9bOLOKL",
        "outputId": "7f0bee6d-1e94-4980-cafa-19fc68d47e1c"
      },
      "execution_count": 156,
      "outputs": [
        {
          "output_type": "stream",
          "name": "stdout",
          "text": [
            "[0 0]\n"
          ]
        }
      ]
    },
    {
      "cell_type": "code",
      "source": [
        "print (arr)\n",
        "print (arr_copy)"
      ],
      "metadata": {
        "colab": {
          "base_uri": "https://localhost:8080/"
        },
        "id": "JqG6NuFcLXTw",
        "outputId": "eef49a70-9354-4a3a-e873-9e45b783dfba"
      },
      "execution_count": 158,
      "outputs": [
        {
          "output_type": "stream",
          "name": "stdout",
          "text": [
            "[99 99 99 99 99  5  6  7  8  9 10]\n",
            "[ 0  0 99 99 99  5  6  7  8  9 10]\n"
          ]
        }
      ]
    },
    {
      "cell_type": "markdown",
      "source": [
        "###Indexando uma array 2D (matrizes)\n",
        "\n",
        "O formato geral é arr_2d[row][col] ou arr_2d[row,col]"
      ],
      "metadata": {
        "id": "QEWDVc8kLs2u"
      }
    },
    {
      "cell_type": "code",
      "source": [
        "arr_2d = np.array([[5,10,15],[20,25,30],[35,40,45]])\n",
        "print(arr_2d)"
      ],
      "metadata": {
        "colab": {
          "base_uri": "https://localhost:8080/"
        },
        "id": "Sed5d8nwLm6H",
        "outputId": "3a641c8b-7646-4d6e-d486-59bad58d0fb5"
      },
      "execution_count": 159,
      "outputs": [
        {
          "output_type": "stream",
          "name": "stdout",
          "text": [
            "[[ 5 10 15]\n",
            " [20 25 30]\n",
            " [35 40 45]]\n"
          ]
        }
      ]
    },
    {
      "cell_type": "code",
      "source": [
        "arr_2d[1]"
      ],
      "metadata": {
        "colab": {
          "base_uri": "https://localhost:8080/"
        },
        "id": "RWuqlJd6MRoW",
        "outputId": "80e4ad45-6ee4-428a-94e0-d678a50c484d"
      },
      "execution_count": 160,
      "outputs": [
        {
          "output_type": "execute_result",
          "data": {
            "text/plain": [
              "array([20, 25, 30])"
            ]
          },
          "metadata": {},
          "execution_count": 160
        }
      ]
    },
    {
      "cell_type": "code",
      "source": [
        "arr_2d[1,0]"
      ],
      "metadata": {
        "colab": {
          "base_uri": "https://localhost:8080/"
        },
        "id": "gmTwQrCkMUko",
        "outputId": "c8579944-2835-4bdb-aeb9-ff08e126a982"
      },
      "execution_count": 161,
      "outputs": [
        {
          "output_type": "execute_result",
          "data": {
            "text/plain": [
              "20"
            ]
          },
          "metadata": {},
          "execution_count": 161
        }
      ]
    },
    {
      "cell_type": "markdown",
      "source": [
        "para pegar as 2 primeiras linhas e 2 segundas colunas:"
      ],
      "metadata": {
        "id": "Xd4Upy_jMmLC"
      }
    },
    {
      "cell_type": "code",
      "source": [
        "arr_2d[:2,1:]"
      ],
      "metadata": {
        "colab": {
          "base_uri": "https://localhost:8080/"
        },
        "id": "SDh1r6r0MX1g",
        "outputId": "f0150c63-4315-4dd9-a68c-8946d291001e"
      },
      "execution_count": 162,
      "outputs": [
        {
          "output_type": "execute_result",
          "data": {
            "text/plain": [
              "array([[10, 15],\n",
              "       [25, 30]])"
            ]
          },
          "metadata": {},
          "execution_count": 162
        }
      ]
    },
    {
      "cell_type": "markdown",
      "source": [
        "##Operações no Numpy\n"
      ],
      "metadata": {
        "id": "UkCGVn95NXhv"
      }
    },
    {
      "cell_type": "code",
      "source": [
        "arr = np.arange(11)\n",
        "arr"
      ],
      "metadata": {
        "colab": {
          "base_uri": "https://localhost:8080/"
        },
        "id": "VIIqntG6MczR",
        "outputId": "84b51cc4-77c8-4afd-c707-7c4fc263fa71"
      },
      "execution_count": 165,
      "outputs": [
        {
          "output_type": "execute_result",
          "data": {
            "text/plain": [
              "array([ 0,  1,  2,  3,  4,  5,  6,  7,  8,  9, 10])"
            ]
          },
          "metadata": {},
          "execution_count": 165
        }
      ]
    },
    {
      "cell_type": "code",
      "source": [
        "arr + arr"
      ],
      "metadata": {
        "colab": {
          "base_uri": "https://localhost:8080/"
        },
        "id": "DmbetQTRNoLu",
        "outputId": "03684789-898f-4851-9717-258e32abf6ed"
      },
      "execution_count": 166,
      "outputs": [
        {
          "output_type": "execute_result",
          "data": {
            "text/plain": [
              "array([ 0,  2,  4,  6,  8, 10, 12, 14, 16, 18, 20])"
            ]
          },
          "metadata": {},
          "execution_count": 166
        }
      ]
    },
    {
      "cell_type": "code",
      "source": [
        "arr * arr #nesse caso multiplica termo a termo, não as matrizes"
      ],
      "metadata": {
        "colab": {
          "base_uri": "https://localhost:8080/"
        },
        "id": "irRl_JxwNtx3",
        "outputId": "db0110dd-3ba4-47c8-afab-e92f0a6a9735"
      },
      "execution_count": 167,
      "outputs": [
        {
          "output_type": "execute_result",
          "data": {
            "text/plain": [
              "array([  0,   1,   4,   9,  16,  25,  36,  49,  64,  81, 100])"
            ]
          },
          "metadata": {},
          "execution_count": 167
        }
      ]
    },
    {
      "cell_type": "code",
      "source": [
        "arr/arr"
      ],
      "metadata": {
        "colab": {
          "base_uri": "https://localhost:8080/"
        },
        "id": "mhpSsEePN1AV",
        "outputId": "210762f6-0f4f-46d5-9c69-f084121c2acf"
      },
      "execution_count": 168,
      "outputs": [
        {
          "output_type": "stream",
          "name": "stderr",
          "text": [
            "<ipython-input-168-50b4ced5627e>:1: RuntimeWarning: invalid value encountered in divide\n",
            "  arr/arr\n"
          ]
        },
        {
          "output_type": "execute_result",
          "data": {
            "text/plain": [
              "array([nan,  1.,  1.,  1.,  1.,  1.,  1.,  1.,  1.,  1.,  1.])"
            ]
          },
          "metadata": {},
          "execution_count": 168
        }
      ]
    },
    {
      "cell_type": "code",
      "source": [
        "arr**2"
      ],
      "metadata": {
        "colab": {
          "base_uri": "https://localhost:8080/"
        },
        "id": "Gc46qRoRN3mi",
        "outputId": "725c034d-1430-412d-e6d9-955043b1b73b"
      },
      "execution_count": 169,
      "outputs": [
        {
          "output_type": "execute_result",
          "data": {
            "text/plain": [
              "array([  0,   1,   4,   9,  16,  25,  36,  49,  64,  81, 100])"
            ]
          },
          "metadata": {},
          "execution_count": 169
        }
      ]
    },
    {
      "cell_type": "code",
      "source": [
        "arr #não altera a original"
      ],
      "metadata": {
        "colab": {
          "base_uri": "https://localhost:8080/"
        },
        "id": "lRJ0DFICN_gI",
        "outputId": "454ccec1-3b08-4a1b-892a-b091acd670e5"
      },
      "execution_count": 170,
      "outputs": [
        {
          "output_type": "execute_result",
          "data": {
            "text/plain": [
              "array([ 0,  1,  2,  3,  4,  5,  6,  7,  8,  9, 10])"
            ]
          },
          "metadata": {},
          "execution_count": 170
        }
      ]
    },
    {
      "cell_type": "markdown",
      "source": [
        "##Funções Universais"
      ],
      "metadata": {
        "id": "27K4WcBIOFqN"
      }
    },
    {
      "cell_type": "code",
      "source": [
        "np.sqrt(arr) #raiz quadrada"
      ],
      "metadata": {
        "colab": {
          "base_uri": "https://localhost:8080/"
        },
        "id": "Ospy5cAeOBPP",
        "outputId": "6bdf7d94-ecb5-4c0b-caf3-a1d04f0a1c5a"
      },
      "execution_count": 171,
      "outputs": [
        {
          "output_type": "execute_result",
          "data": {
            "text/plain": [
              "array([0.        , 1.        , 1.41421356, 1.73205081, 2.        ,\n",
              "       2.23606798, 2.44948974, 2.64575131, 2.82842712, 3.        ,\n",
              "       3.16227766])"
            ]
          },
          "metadata": {},
          "execution_count": 171
        }
      ]
    },
    {
      "cell_type": "code",
      "source": [
        "np.exp(arr) #exponencial"
      ],
      "metadata": {
        "colab": {
          "base_uri": "https://localhost:8080/"
        },
        "id": "pwDUN9I_OWoL",
        "outputId": "449b096a-7f54-4f9f-d40a-f0711d35e131"
      },
      "execution_count": 175,
      "outputs": [
        {
          "output_type": "execute_result",
          "data": {
            "text/plain": [
              "array([1.00000000e+00, 2.71828183e+00, 7.38905610e+00, 2.00855369e+01,\n",
              "       5.45981500e+01, 1.48413159e+02, 4.03428793e+02, 1.09663316e+03,\n",
              "       2.98095799e+03, 8.10308393e+03, 2.20264658e+04])"
            ]
          },
          "metadata": {},
          "execution_count": 175
        }
      ]
    },
    {
      "cell_type": "code",
      "source": [
        "np.sin(arr) #seno"
      ],
      "metadata": {
        "colab": {
          "base_uri": "https://localhost:8080/"
        },
        "id": "h8xXL6KcOat5",
        "outputId": "cf5f805c-1b51-4eb2-bed6-77d508d5bb41"
      },
      "execution_count": 176,
      "outputs": [
        {
          "output_type": "execute_result",
          "data": {
            "text/plain": [
              "array([ 0.        ,  0.84147098,  0.90929743,  0.14112001, -0.7568025 ,\n",
              "       -0.95892427, -0.2794155 ,  0.6569866 ,  0.98935825,  0.41211849,\n",
              "       -0.54402111])"
            ]
          },
          "metadata": {},
          "execution_count": 176
        }
      ]
    },
    {
      "cell_type": "code",
      "source": [
        "np.log(arr)"
      ],
      "metadata": {
        "colab": {
          "base_uri": "https://localhost:8080/"
        },
        "id": "OWW5DA2COp7J",
        "outputId": "c5e4d7e4-897d-4926-a6be-2c0288ec6223"
      },
      "execution_count": 177,
      "outputs": [
        {
          "output_type": "stream",
          "name": "stderr",
          "text": [
            "<ipython-input-177-0a7f062109fe>:1: RuntimeWarning: divide by zero encountered in log\n",
            "  np.log(arr)\n"
          ]
        },
        {
          "output_type": "execute_result",
          "data": {
            "text/plain": [
              "array([      -inf, 0.        , 0.69314718, 1.09861229, 1.38629436,\n",
              "       1.60943791, 1.79175947, 1.94591015, 2.07944154, 2.19722458,\n",
              "       2.30258509])"
            ]
          },
          "metadata": {},
          "execution_count": 177
        }
      ]
    },
    {
      "cell_type": "code",
      "source": [],
      "metadata": {
        "id": "6MtDRZQhOu52"
      },
      "execution_count": null,
      "outputs": []
    }
  ]
}